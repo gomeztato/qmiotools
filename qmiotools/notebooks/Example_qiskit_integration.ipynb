{
 "cells": [
  {
   "cell_type": "code",
   "execution_count": 1,
   "id": "e3659971",
   "metadata": {
    "scrolled": true
   },
   "outputs": [],
   "source": [
    "%load_ext autoreload\n",
    "%autoreload 2\n",
    "%matplotlib inline\n"
   ]
  },
  {
   "cell_type": "markdown",
   "id": "ce98fa6e",
   "metadata": {},
   "source": [
    "### Import the QmioBackend code"
   ]
  },
  {
   "cell_type": "code",
   "execution_count": 2,
   "id": "f09547f1",
   "metadata": {
    "scrolled": true
   },
   "outputs": [
    {
     "name": "stderr",
     "output_type": "stream",
     "text": [
      "/home/cesga/agomez/QMIO/githib/qmiotools/qmiotools/integrations/qiskitqmio/qmiobackend.py:643: SyntaxWarning: \"is not\" with a literal. Did you mean \"!=\"?\n",
      "  if res_format is not \"raw\" and not memory:\n"
     ]
    }
   ],
   "source": [
    "from qmiotools.integrations.qiskitqmio import QmioBackend"
   ]
  },
  {
   "cell_type": "code",
   "execution_count": 3,
   "id": "6e0d1cde",
   "metadata": {},
   "outputs": [],
   "source": [
    "from qiskit.circuit import QuantumCircuit\n",
    "from qiskit import transpile\n",
    "from qiskit.visualization import plot_gate_map, plot_error_map"
   ]
  },
  {
   "cell_type": "markdown",
   "id": "4837b5d6",
   "metadata": {},
   "source": [
    "### Create an instance of the QMIO backend, loading the last calibration from the directory given by the QMIO_CALIBRATIONS environ"
   ]
  },
  {
   "cell_type": "code",
   "execution_count": 5,
   "id": "ea1b709f",
   "metadata": {},
   "outputs": [
    {
     "name": "stdout",
     "output_type": "stream",
     "text": [
      "2024-11-30 20:19:16,075 - QmioBackend/0.1.5 - INFO - Logging started:\n"
     ]
    },
    {
     "name": "stderr",
     "output_type": "stream",
     "text": [
      "2024-11-30 20:19:16,075 - QmioBackend/0.1.5 - INFO - Logging started:\n"
     ]
    },
    {
     "name": "stdout",
     "output_type": "stream",
     "text": [
      "2024-11-30 20:19:16,078 - QmioBackend/0.1.5 - INFO - Loading calibrations\n"
     ]
    },
    {
     "name": "stderr",
     "output_type": "stream",
     "text": [
      "2024-11-30 20:19:16,078 - QmioBackend/0.1.5 - INFO - Loading calibrations\n"
     ]
    },
    {
     "name": "stdout",
     "output_type": "stream",
     "text": [
      "Importing calibrations from  /opt/cesga/qmio/hpc/calibrations/2024_11_29__12_00_02.json\n",
      "2024-11-30 20:19:16,108 - QmioBackend/0.1.5 - DEBUG - Qubit:q[0], T1=0.000019996, T2=0.000028894, Drive Freq:4372500000.000000\n"
     ]
    },
    {
     "name": "stderr",
     "output_type": "stream",
     "text": [
      "2024-11-30 20:19:16,108 - QmioBackend/0.1.5 - DEBUG - Qubit:q[0], T1=0.000019996, T2=0.000028894, Drive Freq:4372500000.000000\n"
     ]
    },
    {
     "name": "stdout",
     "output_type": "stream",
     "text": [
      "2024-11-30 20:19:16,110 - QmioBackend/0.1.5 - DEBUG - Qubit:q[1], T1=0.000057258, T2=0.000032485, Drive Freq:4257400000.000000\n"
     ]
    },
    {
     "name": "stderr",
     "output_type": "stream",
     "text": [
      "2024-11-30 20:19:16,110 - QmioBackend/0.1.5 - DEBUG - Qubit:q[1], T1=0.000057258, T2=0.000032485, Drive Freq:4257400000.000000\n"
     ]
    },
    {
     "name": "stdout",
     "output_type": "stream",
     "text": [
      "2024-11-30 20:19:16,112 - QmioBackend/0.1.5 - DEBUG - Qubit:q[2], T1=0.000121770, T2=0.000079126, Drive Freq:4369200000.000000\n"
     ]
    },
    {
     "name": "stderr",
     "output_type": "stream",
     "text": [
      "2024-11-30 20:19:16,112 - QmioBackend/0.1.5 - DEBUG - Qubit:q[2], T1=0.000121770, T2=0.000079126, Drive Freq:4369200000.000000\n"
     ]
    },
    {
     "name": "stdout",
     "output_type": "stream",
     "text": [
      "2024-11-30 20:19:16,113 - QmioBackend/0.1.5 - DEBUG - Qubit:q[3], T1=0.000047732, T2=0.000092607, Drive Freq:4220000000.000000\n"
     ]
    },
    {
     "name": "stderr",
     "output_type": "stream",
     "text": [
      "2024-11-30 20:19:16,113 - QmioBackend/0.1.5 - DEBUG - Qubit:q[3], T1=0.000047732, T2=0.000092607, Drive Freq:4220000000.000000\n"
     ]
    },
    {
     "name": "stdout",
     "output_type": "stream",
     "text": [
      "2024-11-30 20:19:16,115 - QmioBackend/0.1.5 - DEBUG - Qubit:q[4], T1=0.000072863, T2=0.000176850, Drive Freq:4340900000.000000\n"
     ]
    },
    {
     "name": "stderr",
     "output_type": "stream",
     "text": [
      "2024-11-30 20:19:16,115 - QmioBackend/0.1.5 - DEBUG - Qubit:q[4], T1=0.000072863, T2=0.000176850, Drive Freq:4340900000.000000\n"
     ]
    },
    {
     "name": "stdout",
     "output_type": "stream",
     "text": [
      "2024-11-30 20:19:16,116 - QmioBackend/0.1.5 - DEBUG - Qubit:q[5], T1=0.000063787, T2=0.000133910, Drive Freq:4398400000.000000\n"
     ]
    },
    {
     "name": "stderr",
     "output_type": "stream",
     "text": [
      "2024-11-30 20:19:16,116 - QmioBackend/0.1.5 - DEBUG - Qubit:q[5], T1=0.000063787, T2=0.000133910, Drive Freq:4398400000.000000\n"
     ]
    },
    {
     "name": "stdout",
     "output_type": "stream",
     "text": [
      "2024-11-30 20:19:16,118 - QmioBackend/0.1.5 - DEBUG - Qubit:q[6], T1=0.000051083, T2=0.000108390, Drive Freq:4411500000.000000\n"
     ]
    },
    {
     "name": "stderr",
     "output_type": "stream",
     "text": [
      "2024-11-30 20:19:16,118 - QmioBackend/0.1.5 - DEBUG - Qubit:q[6], T1=0.000051083, T2=0.000108390, Drive Freq:4411500000.000000\n"
     ]
    },
    {
     "name": "stdout",
     "output_type": "stream",
     "text": [
      "2024-11-30 20:19:16,119 - QmioBackend/0.1.5 - DEBUG - Qubit:q[7], T1=0.000034525, T2=0.000018381, Drive Freq:4420500000.000000\n"
     ]
    },
    {
     "name": "stderr",
     "output_type": "stream",
     "text": [
      "2024-11-30 20:19:16,119 - QmioBackend/0.1.5 - DEBUG - Qubit:q[7], T1=0.000034525, T2=0.000018381, Drive Freq:4420500000.000000\n"
     ]
    },
    {
     "name": "stdout",
     "output_type": "stream",
     "text": [
      "2024-11-30 20:19:16,120 - QmioBackend/0.1.5 - DEBUG - Qubit:q[8], T1=0.000033893, T2=0.000085032, Drive Freq:4280400000.000000\n"
     ]
    },
    {
     "name": "stderr",
     "output_type": "stream",
     "text": [
      "2024-11-30 20:19:16,120 - QmioBackend/0.1.5 - DEBUG - Qubit:q[8], T1=0.000033893, T2=0.000085032, Drive Freq:4280400000.000000\n"
     ]
    },
    {
     "name": "stdout",
     "output_type": "stream",
     "text": [
      "2024-11-30 20:19:16,121 - QmioBackend/0.1.5 - DEBUG - Qubit:q[9], T1=0.000054911, T2=0.000045786, Drive Freq:4412900000.000000\n"
     ]
    },
    {
     "name": "stderr",
     "output_type": "stream",
     "text": [
      "2024-11-30 20:19:16,121 - QmioBackend/0.1.5 - DEBUG - Qubit:q[9], T1=0.000054911, T2=0.000045786, Drive Freq:4412900000.000000\n"
     ]
    },
    {
     "name": "stdout",
     "output_type": "stream",
     "text": [
      "2024-11-30 20:19:16,122 - QmioBackend/0.1.5 - DEBUG - Qubit:q[10], T1=0.000076092, T2=0.000073394, Drive Freq:4241300000.000000\n"
     ]
    },
    {
     "name": "stderr",
     "output_type": "stream",
     "text": [
      "2024-11-30 20:19:16,122 - QmioBackend/0.1.5 - DEBUG - Qubit:q[10], T1=0.000076092, T2=0.000073394, Drive Freq:4241300000.000000\n"
     ]
    },
    {
     "name": "stdout",
     "output_type": "stream",
     "text": [
      "2024-11-30 20:19:16,123 - QmioBackend/0.1.5 - DEBUG - Qubit:q[11], T1=0.000037586, T2=0.000064736, Drive Freq:4364900000.000000\n"
     ]
    },
    {
     "name": "stderr",
     "output_type": "stream",
     "text": [
      "2024-11-30 20:19:16,123 - QmioBackend/0.1.5 - DEBUG - Qubit:q[11], T1=0.000037586, T2=0.000064736, Drive Freq:4364900000.000000\n"
     ]
    },
    {
     "name": "stdout",
     "output_type": "stream",
     "text": [
      "2024-11-30 20:19:16,124 - QmioBackend/0.1.5 - DEBUG - Qubit:q[12], T1=0.000061629, T2=0.000101880, Drive Freq:4283100000.000000\n"
     ]
    },
    {
     "name": "stderr",
     "output_type": "stream",
     "text": [
      "2024-11-30 20:19:16,124 - QmioBackend/0.1.5 - DEBUG - Qubit:q[12], T1=0.000061629, T2=0.000101880, Drive Freq:4283100000.000000\n"
     ]
    },
    {
     "name": "stdout",
     "output_type": "stream",
     "text": [
      "2024-11-30 20:19:16,125 - QmioBackend/0.1.5 - DEBUG - Qubit:q[13], T1=0.000071430, T2=0.000087190, Drive Freq:4408700000.000000\n"
     ]
    },
    {
     "name": "stderr",
     "output_type": "stream",
     "text": [
      "2024-11-30 20:19:16,125 - QmioBackend/0.1.5 - DEBUG - Qubit:q[13], T1=0.000071430, T2=0.000087190, Drive Freq:4408700000.000000\n"
     ]
    },
    {
     "name": "stdout",
     "output_type": "stream",
     "text": [
      "2024-11-30 20:19:16,126 - QmioBackend/0.1.5 - DEBUG - Qubit:q[14], T1=0.000043005, T2=0.000085817, Drive Freq:4397900000.000000\n"
     ]
    },
    {
     "name": "stderr",
     "output_type": "stream",
     "text": [
      "2024-11-30 20:19:16,126 - QmioBackend/0.1.5 - DEBUG - Qubit:q[14], T1=0.000043005, T2=0.000085817, Drive Freq:4397900000.000000\n"
     ]
    },
    {
     "name": "stdout",
     "output_type": "stream",
     "text": [
      "2024-11-30 20:19:16,127 - QmioBackend/0.1.5 - DEBUG - Qubit:q[15], T1=0.000080356, T2=0.000139120, Drive Freq:4377400000.000000\n"
     ]
    },
    {
     "name": "stderr",
     "output_type": "stream",
     "text": [
      "2024-11-30 20:19:16,127 - QmioBackend/0.1.5 - DEBUG - Qubit:q[15], T1=0.000080356, T2=0.000139120, Drive Freq:4377400000.000000\n"
     ]
    },
    {
     "name": "stdout",
     "output_type": "stream",
     "text": [
      "2024-11-30 20:19:16,130 - QmioBackend/0.1.5 - DEBUG - Qubit:q[16], T1=0.000047892, T2=0.000083713, Drive Freq:4317300000.000000\n"
     ]
    },
    {
     "name": "stderr",
     "output_type": "stream",
     "text": [
      "2024-11-30 20:19:16,130 - QmioBackend/0.1.5 - DEBUG - Qubit:q[16], T1=0.000047892, T2=0.000083713, Drive Freq:4317300000.000000\n"
     ]
    },
    {
     "name": "stdout",
     "output_type": "stream",
     "text": [
      "2024-11-30 20:19:16,130 - QmioBackend/0.1.5 - DEBUG - Qubit:q[17], T1=0.000047127, T2=0.000085534, Drive Freq:4298900000.000000\n"
     ]
    },
    {
     "name": "stderr",
     "output_type": "stream",
     "text": [
      "2024-11-30 20:19:16,130 - QmioBackend/0.1.5 - DEBUG - Qubit:q[17], T1=0.000047127, T2=0.000085534, Drive Freq:4298900000.000000\n"
     ]
    },
    {
     "name": "stdout",
     "output_type": "stream",
     "text": [
      "2024-11-30 20:19:16,131 - QmioBackend/0.1.5 - DEBUG - Qubit:q[18], T1=0.000064802, T2=0.000060769, Drive Freq:4311100000.000000\n"
     ]
    },
    {
     "name": "stderr",
     "output_type": "stream",
     "text": [
      "2024-11-30 20:19:16,131 - QmioBackend/0.1.5 - DEBUG - Qubit:q[18], T1=0.000064802, T2=0.000060769, Drive Freq:4311100000.000000\n"
     ]
    },
    {
     "name": "stdout",
     "output_type": "stream",
     "text": [
      "2024-11-30 20:19:16,132 - QmioBackend/0.1.5 - DEBUG - Qubit:q[19], T1=0.000070456, T2=0.000121430, Drive Freq:4253700000.000000\n"
     ]
    },
    {
     "name": "stderr",
     "output_type": "stream",
     "text": [
      "2024-11-30 20:19:16,132 - QmioBackend/0.1.5 - DEBUG - Qubit:q[19], T1=0.000070456, T2=0.000121430, Drive Freq:4253700000.000000\n"
     ]
    },
    {
     "name": "stdout",
     "output_type": "stream",
     "text": [
      "2024-11-30 20:19:16,132 - QmioBackend/0.1.5 - DEBUG - Qubit:q[20], T1=0.000041841, T2=0.000067149, Drive Freq:4328100000.000000\n"
     ]
    },
    {
     "name": "stderr",
     "output_type": "stream",
     "text": [
      "2024-11-30 20:19:16,132 - QmioBackend/0.1.5 - DEBUG - Qubit:q[20], T1=0.000041841, T2=0.000067149, Drive Freq:4328100000.000000\n"
     ]
    },
    {
     "name": "stdout",
     "output_type": "stream",
     "text": [
      "2024-11-30 20:19:16,134 - QmioBackend/0.1.5 - DEBUG - Qubit:q[21], T1=0.000037652, T2=0.000069346, Drive Freq:4314300000.000000\n"
     ]
    },
    {
     "name": "stderr",
     "output_type": "stream",
     "text": [
      "2024-11-30 20:19:16,134 - QmioBackend/0.1.5 - DEBUG - Qubit:q[21], T1=0.000037652, T2=0.000069346, Drive Freq:4314300000.000000\n"
     ]
    },
    {
     "name": "stdout",
     "output_type": "stream",
     "text": [
      "2024-11-30 20:19:16,135 - QmioBackend/0.1.5 - DEBUG - Qubit:q[22], T1=0.000036030, T2=0.000040781, Drive Freq:4393400000.000000\n"
     ]
    },
    {
     "name": "stderr",
     "output_type": "stream",
     "text": [
      "2024-11-30 20:19:16,135 - QmioBackend/0.1.5 - DEBUG - Qubit:q[22], T1=0.000036030, T2=0.000040781, Drive Freq:4393400000.000000\n"
     ]
    },
    {
     "name": "stdout",
     "output_type": "stream",
     "text": [
      "2024-11-30 20:19:16,136 - QmioBackend/0.1.5 - DEBUG - Qubit:q[23], T1=0.000054306, T2=0.000080505, Drive Freq:4395400000.000000\n"
     ]
    },
    {
     "name": "stderr",
     "output_type": "stream",
     "text": [
      "2024-11-30 20:19:16,136 - QmioBackend/0.1.5 - DEBUG - Qubit:q[23], T1=0.000054306, T2=0.000080505, Drive Freq:4395400000.000000\n"
     ]
    },
    {
     "name": "stdout",
     "output_type": "stream",
     "text": [
      "2024-11-30 20:19:16,136 - QmioBackend/0.1.5 - DEBUG - Qubit:q[24], T1=0.000061127, T2=0.000043546, Drive Freq:4481600000.000000\n"
     ]
    },
    {
     "name": "stderr",
     "output_type": "stream",
     "text": [
      "2024-11-30 20:19:16,136 - QmioBackend/0.1.5 - DEBUG - Qubit:q[24], T1=0.000061127, T2=0.000043546, Drive Freq:4481600000.000000\n"
     ]
    },
    {
     "name": "stdout",
     "output_type": "stream",
     "text": [
      "2024-11-30 20:19:16,137 - QmioBackend/0.1.5 - DEBUG - Qubit:q[25], T1=0.000071856, T2=0.000092071, Drive Freq:4449600000.000000\n"
     ]
    },
    {
     "name": "stderr",
     "output_type": "stream",
     "text": [
      "2024-11-30 20:19:16,137 - QmioBackend/0.1.5 - DEBUG - Qubit:q[25], T1=0.000071856, T2=0.000092071, Drive Freq:4449600000.000000\n"
     ]
    },
    {
     "name": "stdout",
     "output_type": "stream",
     "text": [
      "2024-11-30 20:19:16,138 - QmioBackend/0.1.5 - DEBUG - Qubit:q[26], T1=0.000047129, T2=0.000078929, Drive Freq:4362600000.000000\n"
     ]
    },
    {
     "name": "stderr",
     "output_type": "stream",
     "text": [
      "2024-11-30 20:19:16,138 - QmioBackend/0.1.5 - DEBUG - Qubit:q[26], T1=0.000047129, T2=0.000078929, Drive Freq:4362600000.000000\n"
     ]
    },
    {
     "name": "stdout",
     "output_type": "stream",
     "text": [
      "2024-11-30 20:19:16,138 - QmioBackend/0.1.5 - DEBUG - Qubit:q[27], T1=0.000052419, T2=0.000063064, Drive Freq:4267200000.000000\n"
     ]
    },
    {
     "name": "stderr",
     "output_type": "stream",
     "text": [
      "2024-11-30 20:19:16,138 - QmioBackend/0.1.5 - DEBUG - Qubit:q[27], T1=0.000052419, T2=0.000063064, Drive Freq:4267200000.000000\n"
     ]
    },
    {
     "name": "stdout",
     "output_type": "stream",
     "text": [
      "2024-11-30 20:19:16,139 - QmioBackend/0.1.5 - DEBUG - Qubit:q[28], T1=0.000068383, T2=0.000116230, Drive Freq:4279000000.000000\n"
     ]
    },
    {
     "name": "stderr",
     "output_type": "stream",
     "text": [
      "2024-11-30 20:19:16,139 - QmioBackend/0.1.5 - DEBUG - Qubit:q[28], T1=0.000068383, T2=0.000116230, Drive Freq:4279000000.000000\n"
     ]
    },
    {
     "name": "stdout",
     "output_type": "stream",
     "text": [
      "2024-11-30 20:19:16,140 - QmioBackend/0.1.5 - DEBUG - Qubit:q[29], T1=0.000024319, T2=0.000078738, Drive Freq:4250900000.000000\n"
     ]
    },
    {
     "name": "stderr",
     "output_type": "stream",
     "text": [
      "2024-11-30 20:19:16,140 - QmioBackend/0.1.5 - DEBUG - Qubit:q[29], T1=0.000024319, T2=0.000078738, Drive Freq:4250900000.000000\n"
     ]
    },
    {
     "name": "stdout",
     "output_type": "stream",
     "text": [
      "2024-11-30 20:19:16,141 - QmioBackend/0.1.5 - DEBUG - Qubit:q[30], T1=0.000049546, T2=0.000089176, Drive Freq:4290100000.000000\n"
     ]
    },
    {
     "name": "stderr",
     "output_type": "stream",
     "text": [
      "2024-11-30 20:19:16,141 - QmioBackend/0.1.5 - DEBUG - Qubit:q[30], T1=0.000049546, T2=0.000089176, Drive Freq:4290100000.000000\n"
     ]
    },
    {
     "name": "stdout",
     "output_type": "stream",
     "text": [
      "2024-11-30 20:19:16,142 - QmioBackend/0.1.5 - DEBUG - Qubit:q[31], T1=0.000064930, T2=0.000144040, Drive Freq:4165700000.000000\n"
     ]
    },
    {
     "name": "stderr",
     "output_type": "stream",
     "text": [
      "2024-11-30 20:19:16,142 - QmioBackend/0.1.5 - DEBUG - Qubit:q[31], T1=0.000064930, T2=0.000144040, Drive Freq:4165700000.000000\n"
     ]
    },
    {
     "name": "stdout",
     "output_type": "stream",
     "text": [
      "2024-11-30 20:19:16,142 - QmioBackend/0.1.5 - INFO - Number of loaded qubits 32\n"
     ]
    },
    {
     "name": "stderr",
     "output_type": "stream",
     "text": [
      "2024-11-30 20:19:16,142 - QmioBackend/0.1.5 - INFO - Number of loaded qubits 32\n"
     ]
    },
    {
     "name": "stdout",
     "output_type": "stream",
     "text": [
      "2024-11-30 20:19:16,143 - QmioBackend/0.1.5 - DEBUG - Added SX[0]- Duration 0.0000000960s - error 0.003930\n"
     ]
    },
    {
     "name": "stderr",
     "output_type": "stream",
     "text": [
      "2024-11-30 20:19:16,143 - QmioBackend/0.1.5 - DEBUG - Added SX[0]- Duration 0.0000000960s - error 0.003930\n"
     ]
    },
    {
     "name": "stdout",
     "output_type": "stream",
     "text": [
      "2024-11-30 20:19:16,144 - QmioBackend/0.1.5 - DEBUG - Added SX[1]- Duration 0.0000000960s - error 0.001250\n"
     ]
    },
    {
     "name": "stderr",
     "output_type": "stream",
     "text": [
      "2024-11-30 20:19:16,144 - QmioBackend/0.1.5 - DEBUG - Added SX[1]- Duration 0.0000000960s - error 0.001250\n"
     ]
    },
    {
     "name": "stdout",
     "output_type": "stream",
     "text": [
      "2024-11-30 20:19:16,145 - QmioBackend/0.1.5 - DEBUG - Added SX[2]- Duration 0.0000000960s - error 0.002280\n"
     ]
    },
    {
     "name": "stderr",
     "output_type": "stream",
     "text": [
      "2024-11-30 20:19:16,145 - QmioBackend/0.1.5 - DEBUG - Added SX[2]- Duration 0.0000000960s - error 0.002280\n"
     ]
    },
    {
     "name": "stdout",
     "output_type": "stream",
     "text": [
      "2024-11-30 20:19:16,146 - QmioBackend/0.1.5 - DEBUG - Added SX[3]- Duration 0.0000000320s - error 0.000280\n"
     ]
    },
    {
     "name": "stderr",
     "output_type": "stream",
     "text": [
      "2024-11-30 20:19:16,146 - QmioBackend/0.1.5 - DEBUG - Added SX[3]- Duration 0.0000000320s - error 0.000280\n"
     ]
    },
    {
     "name": "stdout",
     "output_type": "stream",
     "text": [
      "2024-11-30 20:19:16,146 - QmioBackend/0.1.5 - DEBUG - Added SX[4]- Duration 0.0000000320s - error 0.000020\n"
     ]
    },
    {
     "name": "stderr",
     "output_type": "stream",
     "text": [
      "2024-11-30 20:19:16,146 - QmioBackend/0.1.5 - DEBUG - Added SX[4]- Duration 0.0000000320s - error 0.000020\n"
     ]
    },
    {
     "name": "stdout",
     "output_type": "stream",
     "text": [
      "2024-11-30 20:19:16,147 - QmioBackend/0.1.5 - DEBUG - Added SX[5]- Duration 0.0000000320s - error 0.009180\n"
     ]
    },
    {
     "name": "stderr",
     "output_type": "stream",
     "text": [
      "2024-11-30 20:19:16,147 - QmioBackend/0.1.5 - DEBUG - Added SX[5]- Duration 0.0000000320s - error 0.009180\n"
     ]
    },
    {
     "name": "stdout",
     "output_type": "stream",
     "text": [
      "2024-11-30 20:19:16,148 - QmioBackend/0.1.5 - DEBUG - Added SX[6]- Duration 0.0000000320s - error 0.000810\n"
     ]
    },
    {
     "name": "stderr",
     "output_type": "stream",
     "text": [
      "2024-11-30 20:19:16,148 - QmioBackend/0.1.5 - DEBUG - Added SX[6]- Duration 0.0000000320s - error 0.000810\n"
     ]
    },
    {
     "name": "stdout",
     "output_type": "stream",
     "text": [
      "2024-11-30 20:19:16,149 - QmioBackend/0.1.5 - DEBUG - Added SX[7]- Duration 0.0000001280s - error 0.011640\n"
     ]
    },
    {
     "name": "stderr",
     "output_type": "stream",
     "text": [
      "2024-11-30 20:19:16,149 - QmioBackend/0.1.5 - DEBUG - Added SX[7]- Duration 0.0000001280s - error 0.011640\n"
     ]
    },
    {
     "name": "stdout",
     "output_type": "stream",
     "text": [
      "2024-11-30 20:19:16,149 - QmioBackend/0.1.5 - DEBUG - Added SX[8]- Duration 0.0000000320s - error 0.000630\n"
     ]
    },
    {
     "name": "stderr",
     "output_type": "stream",
     "text": [
      "2024-11-30 20:19:16,149 - QmioBackend/0.1.5 - DEBUG - Added SX[8]- Duration 0.0000000320s - error 0.000630\n"
     ]
    },
    {
     "name": "stdout",
     "output_type": "stream",
     "text": [
      "2024-11-30 20:19:16,150 - QmioBackend/0.1.5 - DEBUG - Added SX[9]- Duration 0.0000000320s - error 0.067140\n"
     ]
    },
    {
     "name": "stderr",
     "output_type": "stream",
     "text": [
      "2024-11-30 20:19:16,150 - QmioBackend/0.1.5 - DEBUG - Added SX[9]- Duration 0.0000000320s - error 0.067140\n"
     ]
    },
    {
     "name": "stdout",
     "output_type": "stream",
     "text": [
      "2024-11-30 20:19:16,151 - QmioBackend/0.1.5 - DEBUG - Added SX[10]- Duration 0.0000000320s - error 0.000970\n"
     ]
    },
    {
     "name": "stderr",
     "output_type": "stream",
     "text": [
      "2024-11-30 20:19:16,151 - QmioBackend/0.1.5 - DEBUG - Added SX[10]- Duration 0.0000000320s - error 0.000970\n"
     ]
    },
    {
     "name": "stdout",
     "output_type": "stream",
     "text": [
      "2024-11-30 20:19:16,152 - QmioBackend/0.1.5 - DEBUG - Added SX[11]- Duration 0.0000000320s - error 0.001130\n"
     ]
    },
    {
     "name": "stderr",
     "output_type": "stream",
     "text": [
      "2024-11-30 20:19:16,152 - QmioBackend/0.1.5 - DEBUG - Added SX[11]- Duration 0.0000000320s - error 0.001130\n"
     ]
    },
    {
     "name": "stdout",
     "output_type": "stream",
     "text": [
      "2024-11-30 20:19:16,153 - QmioBackend/0.1.5 - DEBUG - Added SX[12]- Duration 0.0000000320s - error 0.000340\n"
     ]
    },
    {
     "name": "stderr",
     "output_type": "stream",
     "text": [
      "2024-11-30 20:19:16,153 - QmioBackend/0.1.5 - DEBUG - Added SX[12]- Duration 0.0000000320s - error 0.000340\n"
     ]
    },
    {
     "name": "stdout",
     "output_type": "stream",
     "text": [
      "2024-11-30 20:19:16,153 - QmioBackend/0.1.5 - DEBUG - Added SX[13]- Duration 0.0000000320s - error 0.004650\n"
     ]
    },
    {
     "name": "stderr",
     "output_type": "stream",
     "text": [
      "2024-11-30 20:19:16,153 - QmioBackend/0.1.5 - DEBUG - Added SX[13]- Duration 0.0000000320s - error 0.004650\n"
     ]
    },
    {
     "name": "stdout",
     "output_type": "stream",
     "text": [
      "2024-11-30 20:19:16,154 - QmioBackend/0.1.5 - DEBUG - Added SX[14]- Duration 0.0000000320s - error 0.000000\n"
     ]
    },
    {
     "name": "stderr",
     "output_type": "stream",
     "text": [
      "2024-11-30 20:19:16,154 - QmioBackend/0.1.5 - DEBUG - Added SX[14]- Duration 0.0000000320s - error 0.000000\n"
     ]
    },
    {
     "name": "stdout",
     "output_type": "stream",
     "text": [
      "2024-11-30 20:19:16,155 - QmioBackend/0.1.5 - DEBUG - Added SX[15]- Duration 0.0000000320s - error 0.001190\n"
     ]
    },
    {
     "name": "stderr",
     "output_type": "stream",
     "text": [
      "2024-11-30 20:19:16,155 - QmioBackend/0.1.5 - DEBUG - Added SX[15]- Duration 0.0000000320s - error 0.001190\n"
     ]
    },
    {
     "name": "stdout",
     "output_type": "stream",
     "text": [
      "2024-11-30 20:19:16,156 - QmioBackend/0.1.5 - DEBUG - Added SX[16]- Duration 0.0000000320s - error 0.000380\n"
     ]
    },
    {
     "name": "stderr",
     "output_type": "stream",
     "text": [
      "2024-11-30 20:19:16,156 - QmioBackend/0.1.5 - DEBUG - Added SX[16]- Duration 0.0000000320s - error 0.000380\n"
     ]
    },
    {
     "name": "stdout",
     "output_type": "stream",
     "text": [
      "2024-11-30 20:19:16,157 - QmioBackend/0.1.5 - DEBUG - Added SX[17]- Duration 0.0000001280s - error 0.006410\n"
     ]
    },
    {
     "name": "stderr",
     "output_type": "stream",
     "text": [
      "2024-11-30 20:19:16,157 - QmioBackend/0.1.5 - DEBUG - Added SX[17]- Duration 0.0000001280s - error 0.006410\n"
     ]
    },
    {
     "name": "stdout",
     "output_type": "stream",
     "text": [
      "2024-11-30 20:19:16,157 - QmioBackend/0.1.5 - DEBUG - Added SX[18]- Duration 0.0000000320s - error 0.231890\n"
     ]
    },
    {
     "name": "stderr",
     "output_type": "stream",
     "text": [
      "2024-11-30 20:19:16,157 - QmioBackend/0.1.5 - DEBUG - Added SX[18]- Duration 0.0000000320s - error 0.231890\n"
     ]
    },
    {
     "name": "stdout",
     "output_type": "stream",
     "text": [
      "2024-11-30 20:19:16,158 - QmioBackend/0.1.5 - DEBUG - Added SX[19]- Duration 0.0000000320s - error 0.000460\n"
     ]
    },
    {
     "name": "stderr",
     "output_type": "stream",
     "text": [
      "2024-11-30 20:19:16,158 - QmioBackend/0.1.5 - DEBUG - Added SX[19]- Duration 0.0000000320s - error 0.000460\n"
     ]
    },
    {
     "name": "stdout",
     "output_type": "stream",
     "text": [
      "2024-11-30 20:19:16,159 - QmioBackend/0.1.5 - DEBUG - Added SX[20]- Duration 0.0000000320s - error 0.000930\n"
     ]
    },
    {
     "name": "stderr",
     "output_type": "stream",
     "text": [
      "2024-11-30 20:19:16,159 - QmioBackend/0.1.5 - DEBUG - Added SX[20]- Duration 0.0000000320s - error 0.000930\n"
     ]
    },
    {
     "name": "stdout",
     "output_type": "stream",
     "text": [
      "2024-11-30 20:19:16,160 - QmioBackend/0.1.5 - DEBUG - Added SX[21]- Duration 0.0000000320s - error 0.000610\n"
     ]
    },
    {
     "name": "stderr",
     "output_type": "stream",
     "text": [
      "2024-11-30 20:19:16,160 - QmioBackend/0.1.5 - DEBUG - Added SX[21]- Duration 0.0000000320s - error 0.000610\n"
     ]
    },
    {
     "name": "stdout",
     "output_type": "stream",
     "text": [
      "2024-11-30 20:19:16,161 - QmioBackend/0.1.5 - DEBUG - Added SX[22]- Duration 0.0000000320s - error 0.000290\n"
     ]
    },
    {
     "name": "stderr",
     "output_type": "stream",
     "text": [
      "2024-11-30 20:19:16,161 - QmioBackend/0.1.5 - DEBUG - Added SX[22]- Duration 0.0000000320s - error 0.000290\n"
     ]
    },
    {
     "name": "stdout",
     "output_type": "stream",
     "text": [
      "2024-11-30 20:19:16,161 - QmioBackend/0.1.5 - DEBUG - Added SX[23]- Duration 0.0000000320s - error 0.000260\n"
     ]
    },
    {
     "name": "stderr",
     "output_type": "stream",
     "text": [
      "2024-11-30 20:19:16,161 - QmioBackend/0.1.5 - DEBUG - Added SX[23]- Duration 0.0000000320s - error 0.000260\n"
     ]
    },
    {
     "name": "stdout",
     "output_type": "stream",
     "text": [
      "2024-11-30 20:19:16,162 - QmioBackend/0.1.5 - DEBUG - Added SX[24]- Duration 0.0000000320s - error 0.001650\n"
     ]
    },
    {
     "name": "stderr",
     "output_type": "stream",
     "text": [
      "2024-11-30 20:19:16,162 - QmioBackend/0.1.5 - DEBUG - Added SX[24]- Duration 0.0000000320s - error 0.001650\n"
     ]
    },
    {
     "name": "stdout",
     "output_type": "stream",
     "text": [
      "2024-11-30 20:19:16,163 - QmioBackend/0.1.5 - DEBUG - Added SX[25]- Duration 0.0000000320s - error 0.000160\n"
     ]
    },
    {
     "name": "stderr",
     "output_type": "stream",
     "text": [
      "2024-11-30 20:19:16,163 - QmioBackend/0.1.5 - DEBUG - Added SX[25]- Duration 0.0000000320s - error 0.000160\n"
     ]
    },
    {
     "name": "stdout",
     "output_type": "stream",
     "text": [
      "2024-11-30 20:19:16,164 - QmioBackend/0.1.5 - DEBUG - Added SX[26]- Duration 0.0000000320s - error 0.002680\n"
     ]
    },
    {
     "name": "stderr",
     "output_type": "stream",
     "text": [
      "2024-11-30 20:19:16,164 - QmioBackend/0.1.5 - DEBUG - Added SX[26]- Duration 0.0000000320s - error 0.002680\n"
     ]
    },
    {
     "name": "stdout",
     "output_type": "stream",
     "text": [
      "2024-11-30 20:19:16,165 - QmioBackend/0.1.5 - DEBUG - Added SX[27]- Duration 0.0000000640s - error 0.004620\n"
     ]
    },
    {
     "name": "stderr",
     "output_type": "stream",
     "text": [
      "2024-11-30 20:19:16,165 - QmioBackend/0.1.5 - DEBUG - Added SX[27]- Duration 0.0000000640s - error 0.004620\n"
     ]
    },
    {
     "name": "stdout",
     "output_type": "stream",
     "text": [
      "2024-11-30 20:19:16,165 - QmioBackend/0.1.5 - DEBUG - Added SX[28]- Duration 0.0000000320s - error 0.018010\n"
     ]
    },
    {
     "name": "stderr",
     "output_type": "stream",
     "text": [
      "2024-11-30 20:19:16,165 - QmioBackend/0.1.5 - DEBUG - Added SX[28]- Duration 0.0000000320s - error 0.018010\n"
     ]
    },
    {
     "name": "stdout",
     "output_type": "stream",
     "text": [
      "2024-11-30 20:19:16,166 - QmioBackend/0.1.5 - DEBUG - Added SX[29]- Duration 0.0000000320s - error 0.001370\n"
     ]
    },
    {
     "name": "stderr",
     "output_type": "stream",
     "text": [
      "2024-11-30 20:19:16,166 - QmioBackend/0.1.5 - DEBUG - Added SX[29]- Duration 0.0000000320s - error 0.001370\n"
     ]
    },
    {
     "name": "stdout",
     "output_type": "stream",
     "text": [
      "2024-11-30 20:19:16,167 - QmioBackend/0.1.5 - DEBUG - Added SX[30]- Duration 0.0000000320s - error 0.002480\n"
     ]
    },
    {
     "name": "stderr",
     "output_type": "stream",
     "text": [
      "2024-11-30 20:19:16,167 - QmioBackend/0.1.5 - DEBUG - Added SX[30]- Duration 0.0000000320s - error 0.002480\n"
     ]
    },
    {
     "name": "stdout",
     "output_type": "stream",
     "text": [
      "2024-11-30 20:19:16,168 - QmioBackend/0.1.5 - DEBUG - Added SX[31]- Duration 0.0000000320s - error 0.000160\n"
     ]
    },
    {
     "name": "stderr",
     "output_type": "stream",
     "text": [
      "2024-11-30 20:19:16,168 - QmioBackend/0.1.5 - DEBUG - Added SX[31]- Duration 0.0000000320s - error 0.000160\n"
     ]
    },
    {
     "name": "stdout",
     "output_type": "stream",
     "text": [
      "2024-11-30 20:19:16,169 - QmioBackend/0.1.5 - DEBUG - Added X[0]- Duration 0.0000001920s - error 0.003930\n"
     ]
    },
    {
     "name": "stderr",
     "output_type": "stream",
     "text": [
      "2024-11-30 20:19:16,169 - QmioBackend/0.1.5 - DEBUG - Added X[0]- Duration 0.0000001920s - error 0.003930\n"
     ]
    },
    {
     "name": "stdout",
     "output_type": "stream",
     "text": [
      "2024-11-30 20:19:16,170 - QmioBackend/0.1.5 - DEBUG - Added X[1]- Duration 0.0000001920s - error 0.001250\n"
     ]
    },
    {
     "name": "stderr",
     "output_type": "stream",
     "text": [
      "2024-11-30 20:19:16,170 - QmioBackend/0.1.5 - DEBUG - Added X[1]- Duration 0.0000001920s - error 0.001250\n"
     ]
    },
    {
     "name": "stdout",
     "output_type": "stream",
     "text": [
      "2024-11-30 20:19:16,170 - QmioBackend/0.1.5 - DEBUG - Added X[2]- Duration 0.0000001920s - error 0.002280\n"
     ]
    },
    {
     "name": "stderr",
     "output_type": "stream",
     "text": [
      "2024-11-30 20:19:16,170 - QmioBackend/0.1.5 - DEBUG - Added X[2]- Duration 0.0000001920s - error 0.002280\n"
     ]
    },
    {
     "name": "stdout",
     "output_type": "stream",
     "text": [
      "2024-11-30 20:19:16,171 - QmioBackend/0.1.5 - DEBUG - Added X[3]- Duration 0.0000000640s - error 0.000280\n"
     ]
    },
    {
     "name": "stderr",
     "output_type": "stream",
     "text": [
      "2024-11-30 20:19:16,171 - QmioBackend/0.1.5 - DEBUG - Added X[3]- Duration 0.0000000640s - error 0.000280\n"
     ]
    },
    {
     "name": "stdout",
     "output_type": "stream",
     "text": [
      "2024-11-30 20:19:16,172 - QmioBackend/0.1.5 - DEBUG - Added X[4]- Duration 0.0000000640s - error 0.000020\n"
     ]
    },
    {
     "name": "stderr",
     "output_type": "stream",
     "text": [
      "2024-11-30 20:19:16,172 - QmioBackend/0.1.5 - DEBUG - Added X[4]- Duration 0.0000000640s - error 0.000020\n"
     ]
    },
    {
     "name": "stdout",
     "output_type": "stream",
     "text": [
      "2024-11-30 20:19:16,173 - QmioBackend/0.1.5 - DEBUG - Added X[5]- Duration 0.0000000640s - error 0.009180\n"
     ]
    },
    {
     "name": "stderr",
     "output_type": "stream",
     "text": [
      "2024-11-30 20:19:16,173 - QmioBackend/0.1.5 - DEBUG - Added X[5]- Duration 0.0000000640s - error 0.009180\n"
     ]
    },
    {
     "name": "stdout",
     "output_type": "stream",
     "text": [
      "2024-11-30 20:19:16,174 - QmioBackend/0.1.5 - DEBUG - Added X[6]- Duration 0.0000000640s - error 0.000810\n"
     ]
    },
    {
     "name": "stderr",
     "output_type": "stream",
     "text": [
      "2024-11-30 20:19:16,174 - QmioBackend/0.1.5 - DEBUG - Added X[6]- Duration 0.0000000640s - error 0.000810\n"
     ]
    },
    {
     "name": "stdout",
     "output_type": "stream",
     "text": [
      "2024-11-30 20:19:16,174 - QmioBackend/0.1.5 - DEBUG - Added X[7]- Duration 0.0000002560s - error 0.011640\n"
     ]
    },
    {
     "name": "stderr",
     "output_type": "stream",
     "text": [
      "2024-11-30 20:19:16,174 - QmioBackend/0.1.5 - DEBUG - Added X[7]- Duration 0.0000002560s - error 0.011640\n"
     ]
    },
    {
     "name": "stdout",
     "output_type": "stream",
     "text": [
      "2024-11-30 20:19:16,175 - QmioBackend/0.1.5 - DEBUG - Added X[8]- Duration 0.0000000640s - error 0.000630\n"
     ]
    },
    {
     "name": "stderr",
     "output_type": "stream",
     "text": [
      "2024-11-30 20:19:16,175 - QmioBackend/0.1.5 - DEBUG - Added X[8]- Duration 0.0000000640s - error 0.000630\n"
     ]
    },
    {
     "name": "stdout",
     "output_type": "stream",
     "text": [
      "2024-11-30 20:19:16,176 - QmioBackend/0.1.5 - DEBUG - Added X[9]- Duration 0.0000000640s - error 0.067140\n"
     ]
    },
    {
     "name": "stderr",
     "output_type": "stream",
     "text": [
      "2024-11-30 20:19:16,176 - QmioBackend/0.1.5 - DEBUG - Added X[9]- Duration 0.0000000640s - error 0.067140\n"
     ]
    },
    {
     "name": "stdout",
     "output_type": "stream",
     "text": [
      "2024-11-30 20:19:16,177 - QmioBackend/0.1.5 - DEBUG - Added X[10]- Duration 0.0000000640s - error 0.000970\n"
     ]
    },
    {
     "name": "stderr",
     "output_type": "stream",
     "text": [
      "2024-11-30 20:19:16,177 - QmioBackend/0.1.5 - DEBUG - Added X[10]- Duration 0.0000000640s - error 0.000970\n"
     ]
    },
    {
     "name": "stdout",
     "output_type": "stream",
     "text": [
      "2024-11-30 20:19:16,178 - QmioBackend/0.1.5 - DEBUG - Added X[11]- Duration 0.0000000640s - error 0.001130\n"
     ]
    },
    {
     "name": "stderr",
     "output_type": "stream",
     "text": [
      "2024-11-30 20:19:16,178 - QmioBackend/0.1.5 - DEBUG - Added X[11]- Duration 0.0000000640s - error 0.001130\n"
     ]
    },
    {
     "name": "stdout",
     "output_type": "stream",
     "text": [
      "2024-11-30 20:19:16,179 - QmioBackend/0.1.5 - DEBUG - Added X[12]- Duration 0.0000000640s - error 0.000340\n"
     ]
    },
    {
     "name": "stderr",
     "output_type": "stream",
     "text": [
      "2024-11-30 20:19:16,179 - QmioBackend/0.1.5 - DEBUG - Added X[12]- Duration 0.0000000640s - error 0.000340\n"
     ]
    },
    {
     "name": "stdout",
     "output_type": "stream",
     "text": [
      "2024-11-30 20:19:16,179 - QmioBackend/0.1.5 - DEBUG - Added X[13]- Duration 0.0000000640s - error 0.004650\n"
     ]
    },
    {
     "name": "stderr",
     "output_type": "stream",
     "text": [
      "2024-11-30 20:19:16,179 - QmioBackend/0.1.5 - DEBUG - Added X[13]- Duration 0.0000000640s - error 0.004650\n"
     ]
    },
    {
     "name": "stdout",
     "output_type": "stream",
     "text": [
      "2024-11-30 20:19:16,180 - QmioBackend/0.1.5 - DEBUG - Added X[14]- Duration 0.0000000640s - error 0.000000\n"
     ]
    },
    {
     "name": "stderr",
     "output_type": "stream",
     "text": [
      "2024-11-30 20:19:16,180 - QmioBackend/0.1.5 - DEBUG - Added X[14]- Duration 0.0000000640s - error 0.000000\n"
     ]
    },
    {
     "name": "stdout",
     "output_type": "stream",
     "text": [
      "2024-11-30 20:19:16,181 - QmioBackend/0.1.5 - DEBUG - Added X[15]- Duration 0.0000000640s - error 0.001190\n"
     ]
    },
    {
     "name": "stderr",
     "output_type": "stream",
     "text": [
      "2024-11-30 20:19:16,181 - QmioBackend/0.1.5 - DEBUG - Added X[15]- Duration 0.0000000640s - error 0.001190\n"
     ]
    },
    {
     "name": "stdout",
     "output_type": "stream",
     "text": [
      "2024-11-30 20:19:16,182 - QmioBackend/0.1.5 - DEBUG - Added X[16]- Duration 0.0000000640s - error 0.000380\n"
     ]
    },
    {
     "name": "stderr",
     "output_type": "stream",
     "text": [
      "2024-11-30 20:19:16,182 - QmioBackend/0.1.5 - DEBUG - Added X[16]- Duration 0.0000000640s - error 0.000380\n"
     ]
    },
    {
     "name": "stdout",
     "output_type": "stream",
     "text": [
      "2024-11-30 20:19:16,183 - QmioBackend/0.1.5 - DEBUG - Added X[17]- Duration 0.0000002560s - error 0.006410\n"
     ]
    },
    {
     "name": "stderr",
     "output_type": "stream",
     "text": [
      "2024-11-30 20:19:16,183 - QmioBackend/0.1.5 - DEBUG - Added X[17]- Duration 0.0000002560s - error 0.006410\n"
     ]
    },
    {
     "name": "stdout",
     "output_type": "stream",
     "text": [
      "2024-11-30 20:19:16,183 - QmioBackend/0.1.5 - DEBUG - Added X[18]- Duration 0.0000000640s - error 0.231890\n"
     ]
    },
    {
     "name": "stderr",
     "output_type": "stream",
     "text": [
      "2024-11-30 20:19:16,183 - QmioBackend/0.1.5 - DEBUG - Added X[18]- Duration 0.0000000640s - error 0.231890\n"
     ]
    },
    {
     "name": "stdout",
     "output_type": "stream",
     "text": [
      "2024-11-30 20:19:16,184 - QmioBackend/0.1.5 - DEBUG - Added X[19]- Duration 0.0000000640s - error 0.000460\n"
     ]
    },
    {
     "name": "stderr",
     "output_type": "stream",
     "text": [
      "2024-11-30 20:19:16,184 - QmioBackend/0.1.5 - DEBUG - Added X[19]- Duration 0.0000000640s - error 0.000460\n"
     ]
    },
    {
     "name": "stdout",
     "output_type": "stream",
     "text": [
      "2024-11-30 20:19:16,185 - QmioBackend/0.1.5 - DEBUG - Added X[20]- Duration 0.0000000640s - error 0.000930\n"
     ]
    },
    {
     "name": "stderr",
     "output_type": "stream",
     "text": [
      "2024-11-30 20:19:16,185 - QmioBackend/0.1.5 - DEBUG - Added X[20]- Duration 0.0000000640s - error 0.000930\n"
     ]
    },
    {
     "name": "stdout",
     "output_type": "stream",
     "text": [
      "2024-11-30 20:19:16,186 - QmioBackend/0.1.5 - DEBUG - Added X[21]- Duration 0.0000000640s - error 0.000610\n"
     ]
    },
    {
     "name": "stderr",
     "output_type": "stream",
     "text": [
      "2024-11-30 20:19:16,186 - QmioBackend/0.1.5 - DEBUG - Added X[21]- Duration 0.0000000640s - error 0.000610\n"
     ]
    },
    {
     "name": "stdout",
     "output_type": "stream",
     "text": [
      "2024-11-30 20:19:16,187 - QmioBackend/0.1.5 - DEBUG - Added X[22]- Duration 0.0000000640s - error 0.000290\n"
     ]
    },
    {
     "name": "stderr",
     "output_type": "stream",
     "text": [
      "2024-11-30 20:19:16,187 - QmioBackend/0.1.5 - DEBUG - Added X[22]- Duration 0.0000000640s - error 0.000290\n"
     ]
    },
    {
     "name": "stdout",
     "output_type": "stream",
     "text": [
      "2024-11-30 20:19:16,187 - QmioBackend/0.1.5 - DEBUG - Added X[23]- Duration 0.0000000640s - error 0.000260\n"
     ]
    },
    {
     "name": "stderr",
     "output_type": "stream",
     "text": [
      "2024-11-30 20:19:16,187 - QmioBackend/0.1.5 - DEBUG - Added X[23]- Duration 0.0000000640s - error 0.000260\n"
     ]
    },
    {
     "name": "stdout",
     "output_type": "stream",
     "text": [
      "2024-11-30 20:19:16,188 - QmioBackend/0.1.5 - DEBUG - Added X[24]- Duration 0.0000000640s - error 0.001650\n"
     ]
    },
    {
     "name": "stderr",
     "output_type": "stream",
     "text": [
      "2024-11-30 20:19:16,188 - QmioBackend/0.1.5 - DEBUG - Added X[24]- Duration 0.0000000640s - error 0.001650\n"
     ]
    },
    {
     "name": "stdout",
     "output_type": "stream",
     "text": [
      "2024-11-30 20:19:16,189 - QmioBackend/0.1.5 - DEBUG - Added X[25]- Duration 0.0000000640s - error 0.000160\n"
     ]
    },
    {
     "name": "stderr",
     "output_type": "stream",
     "text": [
      "2024-11-30 20:19:16,189 - QmioBackend/0.1.5 - DEBUG - Added X[25]- Duration 0.0000000640s - error 0.000160\n"
     ]
    },
    {
     "name": "stdout",
     "output_type": "stream",
     "text": [
      "2024-11-30 20:19:16,190 - QmioBackend/0.1.5 - DEBUG - Added X[26]- Duration 0.0000000640s - error 0.002680\n"
     ]
    },
    {
     "name": "stderr",
     "output_type": "stream",
     "text": [
      "2024-11-30 20:19:16,190 - QmioBackend/0.1.5 - DEBUG - Added X[26]- Duration 0.0000000640s - error 0.002680\n"
     ]
    },
    {
     "name": "stdout",
     "output_type": "stream",
     "text": [
      "2024-11-30 20:19:16,191 - QmioBackend/0.1.5 - DEBUG - Added X[27]- Duration 0.0000001280s - error 0.004620\n"
     ]
    },
    {
     "name": "stderr",
     "output_type": "stream",
     "text": [
      "2024-11-30 20:19:16,191 - QmioBackend/0.1.5 - DEBUG - Added X[27]- Duration 0.0000001280s - error 0.004620\n"
     ]
    },
    {
     "name": "stdout",
     "output_type": "stream",
     "text": [
      "2024-11-30 20:19:16,191 - QmioBackend/0.1.5 - DEBUG - Added X[28]- Duration 0.0000000640s - error 0.018010\n"
     ]
    },
    {
     "name": "stderr",
     "output_type": "stream",
     "text": [
      "2024-11-30 20:19:16,191 - QmioBackend/0.1.5 - DEBUG - Added X[28]- Duration 0.0000000640s - error 0.018010\n"
     ]
    },
    {
     "name": "stdout",
     "output_type": "stream",
     "text": [
      "2024-11-30 20:19:16,192 - QmioBackend/0.1.5 - DEBUG - Added X[29]- Duration 0.0000000640s - error 0.001370\n"
     ]
    },
    {
     "name": "stderr",
     "output_type": "stream",
     "text": [
      "2024-11-30 20:19:16,192 - QmioBackend/0.1.5 - DEBUG - Added X[29]- Duration 0.0000000640s - error 0.001370\n"
     ]
    },
    {
     "name": "stdout",
     "output_type": "stream",
     "text": [
      "2024-11-30 20:19:16,193 - QmioBackend/0.1.5 - DEBUG - Added X[30]- Duration 0.0000000640s - error 0.002480\n"
     ]
    },
    {
     "name": "stderr",
     "output_type": "stream",
     "text": [
      "2024-11-30 20:19:16,193 - QmioBackend/0.1.5 - DEBUG - Added X[30]- Duration 0.0000000640s - error 0.002480\n"
     ]
    },
    {
     "name": "stdout",
     "output_type": "stream",
     "text": [
      "2024-11-30 20:19:16,194 - QmioBackend/0.1.5 - DEBUG - Added X[31]- Duration 0.0000000640s - error 0.000160\n"
     ]
    },
    {
     "name": "stderr",
     "output_type": "stream",
     "text": [
      "2024-11-30 20:19:16,194 - QmioBackend/0.1.5 - DEBUG - Added X[31]- Duration 0.0000000640s - error 0.000160\n"
     ]
    },
    {
     "name": "stdout",
     "output_type": "stream",
     "text": [
      "2024-11-30 20:19:16,195 - QmioBackend/0.1.5 - DEBUG - Added rz[0]- Duration 0.0000000000s - error 0.000000\n"
     ]
    },
    {
     "name": "stderr",
     "output_type": "stream",
     "text": [
      "2024-11-30 20:19:16,195 - QmioBackend/0.1.5 - DEBUG - Added rz[0]- Duration 0.0000000000s - error 0.000000\n"
     ]
    },
    {
     "name": "stdout",
     "output_type": "stream",
     "text": [
      "2024-11-30 20:19:16,196 - QmioBackend/0.1.5 - DEBUG - Added rz[1]- Duration 0.0000000000s - error 0.000000\n"
     ]
    },
    {
     "name": "stderr",
     "output_type": "stream",
     "text": [
      "2024-11-30 20:19:16,196 - QmioBackend/0.1.5 - DEBUG - Added rz[1]- Duration 0.0000000000s - error 0.000000\n"
     ]
    },
    {
     "name": "stdout",
     "output_type": "stream",
     "text": [
      "2024-11-30 20:19:16,196 - QmioBackend/0.1.5 - DEBUG - Added rz[2]- Duration 0.0000000000s - error 0.000000\n"
     ]
    },
    {
     "name": "stderr",
     "output_type": "stream",
     "text": [
      "2024-11-30 20:19:16,196 - QmioBackend/0.1.5 - DEBUG - Added rz[2]- Duration 0.0000000000s - error 0.000000\n"
     ]
    },
    {
     "name": "stdout",
     "output_type": "stream",
     "text": [
      "2024-11-30 20:19:16,197 - QmioBackend/0.1.5 - DEBUG - Added rz[3]- Duration 0.0000000000s - error 0.000000\n"
     ]
    },
    {
     "name": "stderr",
     "output_type": "stream",
     "text": [
      "2024-11-30 20:19:16,197 - QmioBackend/0.1.5 - DEBUG - Added rz[3]- Duration 0.0000000000s - error 0.000000\n"
     ]
    },
    {
     "name": "stdout",
     "output_type": "stream",
     "text": [
      "2024-11-30 20:19:16,198 - QmioBackend/0.1.5 - DEBUG - Added rz[4]- Duration 0.0000000000s - error 0.000000\n"
     ]
    },
    {
     "name": "stderr",
     "output_type": "stream",
     "text": [
      "2024-11-30 20:19:16,198 - QmioBackend/0.1.5 - DEBUG - Added rz[4]- Duration 0.0000000000s - error 0.000000\n"
     ]
    },
    {
     "name": "stdout",
     "output_type": "stream",
     "text": [
      "2024-11-30 20:19:16,199 - QmioBackend/0.1.5 - DEBUG - Added rz[5]- Duration 0.0000000000s - error 0.000000\n"
     ]
    },
    {
     "name": "stderr",
     "output_type": "stream",
     "text": [
      "2024-11-30 20:19:16,199 - QmioBackend/0.1.5 - DEBUG - Added rz[5]- Duration 0.0000000000s - error 0.000000\n"
     ]
    },
    {
     "name": "stdout",
     "output_type": "stream",
     "text": [
      "2024-11-30 20:19:16,200 - QmioBackend/0.1.5 - DEBUG - Added rz[6]- Duration 0.0000000000s - error 0.000000\n"
     ]
    },
    {
     "name": "stderr",
     "output_type": "stream",
     "text": [
      "2024-11-30 20:19:16,200 - QmioBackend/0.1.5 - DEBUG - Added rz[6]- Duration 0.0000000000s - error 0.000000\n"
     ]
    },
    {
     "name": "stdout",
     "output_type": "stream",
     "text": [
      "2024-11-30 20:19:16,201 - QmioBackend/0.1.5 - DEBUG - Added rz[7]- Duration 0.0000000000s - error 0.000000\n"
     ]
    },
    {
     "name": "stderr",
     "output_type": "stream",
     "text": [
      "2024-11-30 20:19:16,201 - QmioBackend/0.1.5 - DEBUG - Added rz[7]- Duration 0.0000000000s - error 0.000000\n"
     ]
    },
    {
     "name": "stdout",
     "output_type": "stream",
     "text": [
      "2024-11-30 20:19:16,201 - QmioBackend/0.1.5 - DEBUG - Added rz[8]- Duration 0.0000000000s - error 0.000000\n"
     ]
    },
    {
     "name": "stderr",
     "output_type": "stream",
     "text": [
      "2024-11-30 20:19:16,201 - QmioBackend/0.1.5 - DEBUG - Added rz[8]- Duration 0.0000000000s - error 0.000000\n"
     ]
    },
    {
     "name": "stdout",
     "output_type": "stream",
     "text": [
      "2024-11-30 20:19:16,202 - QmioBackend/0.1.5 - DEBUG - Added rz[9]- Duration 0.0000000000s - error 0.000000\n"
     ]
    },
    {
     "name": "stderr",
     "output_type": "stream",
     "text": [
      "2024-11-30 20:19:16,202 - QmioBackend/0.1.5 - DEBUG - Added rz[9]- Duration 0.0000000000s - error 0.000000\n"
     ]
    },
    {
     "name": "stdout",
     "output_type": "stream",
     "text": [
      "2024-11-30 20:19:16,203 - QmioBackend/0.1.5 - DEBUG - Added rz[10]- Duration 0.0000000000s - error 0.000000\n"
     ]
    },
    {
     "name": "stderr",
     "output_type": "stream",
     "text": [
      "2024-11-30 20:19:16,203 - QmioBackend/0.1.5 - DEBUG - Added rz[10]- Duration 0.0000000000s - error 0.000000\n"
     ]
    },
    {
     "name": "stdout",
     "output_type": "stream",
     "text": [
      "2024-11-30 20:19:16,204 - QmioBackend/0.1.5 - DEBUG - Added rz[11]- Duration 0.0000000000s - error 0.000000\n"
     ]
    },
    {
     "name": "stderr",
     "output_type": "stream",
     "text": [
      "2024-11-30 20:19:16,204 - QmioBackend/0.1.5 - DEBUG - Added rz[11]- Duration 0.0000000000s - error 0.000000\n"
     ]
    },
    {
     "name": "stdout",
     "output_type": "stream",
     "text": [
      "2024-11-30 20:19:16,205 - QmioBackend/0.1.5 - DEBUG - Added rz[12]- Duration 0.0000000000s - error 0.000000\n"
     ]
    },
    {
     "name": "stderr",
     "output_type": "stream",
     "text": [
      "2024-11-30 20:19:16,205 - QmioBackend/0.1.5 - DEBUG - Added rz[12]- Duration 0.0000000000s - error 0.000000\n"
     ]
    },
    {
     "name": "stdout",
     "output_type": "stream",
     "text": [
      "2024-11-30 20:19:16,206 - QmioBackend/0.1.5 - DEBUG - Added rz[13]- Duration 0.0000000000s - error 0.000000\n"
     ]
    },
    {
     "name": "stderr",
     "output_type": "stream",
     "text": [
      "2024-11-30 20:19:16,206 - QmioBackend/0.1.5 - DEBUG - Added rz[13]- Duration 0.0000000000s - error 0.000000\n"
     ]
    },
    {
     "name": "stdout",
     "output_type": "stream",
     "text": [
      "2024-11-30 20:19:16,206 - QmioBackend/0.1.5 - DEBUG - Added rz[14]- Duration 0.0000000000s - error 0.000000\n"
     ]
    },
    {
     "name": "stderr",
     "output_type": "stream",
     "text": [
      "2024-11-30 20:19:16,206 - QmioBackend/0.1.5 - DEBUG - Added rz[14]- Duration 0.0000000000s - error 0.000000\n"
     ]
    },
    {
     "name": "stdout",
     "output_type": "stream",
     "text": [
      "2024-11-30 20:19:16,207 - QmioBackend/0.1.5 - DEBUG - Added rz[15]- Duration 0.0000000000s - error 0.000000\n"
     ]
    },
    {
     "name": "stderr",
     "output_type": "stream",
     "text": [
      "2024-11-30 20:19:16,207 - QmioBackend/0.1.5 - DEBUG - Added rz[15]- Duration 0.0000000000s - error 0.000000\n"
     ]
    },
    {
     "name": "stdout",
     "output_type": "stream",
     "text": [
      "2024-11-30 20:19:16,208 - QmioBackend/0.1.5 - DEBUG - Added rz[16]- Duration 0.0000000000s - error 0.000000\n"
     ]
    },
    {
     "name": "stderr",
     "output_type": "stream",
     "text": [
      "2024-11-30 20:19:16,208 - QmioBackend/0.1.5 - DEBUG - Added rz[16]- Duration 0.0000000000s - error 0.000000\n"
     ]
    },
    {
     "name": "stdout",
     "output_type": "stream",
     "text": [
      "2024-11-30 20:19:16,209 - QmioBackend/0.1.5 - DEBUG - Added rz[17]- Duration 0.0000000000s - error 0.000000\n"
     ]
    },
    {
     "name": "stderr",
     "output_type": "stream",
     "text": [
      "2024-11-30 20:19:16,209 - QmioBackend/0.1.5 - DEBUG - Added rz[17]- Duration 0.0000000000s - error 0.000000\n"
     ]
    },
    {
     "name": "stdout",
     "output_type": "stream",
     "text": [
      "2024-11-30 20:19:16,210 - QmioBackend/0.1.5 - DEBUG - Added rz[18]- Duration 0.0000000000s - error 0.000000\n"
     ]
    },
    {
     "name": "stderr",
     "output_type": "stream",
     "text": [
      "2024-11-30 20:19:16,210 - QmioBackend/0.1.5 - DEBUG - Added rz[18]- Duration 0.0000000000s - error 0.000000\n"
     ]
    },
    {
     "name": "stdout",
     "output_type": "stream",
     "text": [
      "2024-11-30 20:19:16,210 - QmioBackend/0.1.5 - DEBUG - Added rz[19]- Duration 0.0000000000s - error 0.000000\n"
     ]
    },
    {
     "name": "stderr",
     "output_type": "stream",
     "text": [
      "2024-11-30 20:19:16,210 - QmioBackend/0.1.5 - DEBUG - Added rz[19]- Duration 0.0000000000s - error 0.000000\n"
     ]
    },
    {
     "name": "stdout",
     "output_type": "stream",
     "text": [
      "2024-11-30 20:19:16,211 - QmioBackend/0.1.5 - DEBUG - Added rz[20]- Duration 0.0000000000s - error 0.000000\n"
     ]
    },
    {
     "name": "stderr",
     "output_type": "stream",
     "text": [
      "2024-11-30 20:19:16,211 - QmioBackend/0.1.5 - DEBUG - Added rz[20]- Duration 0.0000000000s - error 0.000000\n"
     ]
    },
    {
     "name": "stdout",
     "output_type": "stream",
     "text": [
      "2024-11-30 20:19:16,212 - QmioBackend/0.1.5 - DEBUG - Added rz[21]- Duration 0.0000000000s - error 0.000000\n"
     ]
    },
    {
     "name": "stderr",
     "output_type": "stream",
     "text": [
      "2024-11-30 20:19:16,212 - QmioBackend/0.1.5 - DEBUG - Added rz[21]- Duration 0.0000000000s - error 0.000000\n"
     ]
    },
    {
     "name": "stdout",
     "output_type": "stream",
     "text": [
      "2024-11-30 20:19:16,213 - QmioBackend/0.1.5 - DEBUG - Added rz[22]- Duration 0.0000000000s - error 0.000000\n"
     ]
    },
    {
     "name": "stderr",
     "output_type": "stream",
     "text": [
      "2024-11-30 20:19:16,213 - QmioBackend/0.1.5 - DEBUG - Added rz[22]- Duration 0.0000000000s - error 0.000000\n"
     ]
    },
    {
     "name": "stdout",
     "output_type": "stream",
     "text": [
      "2024-11-30 20:19:16,214 - QmioBackend/0.1.5 - DEBUG - Added rz[23]- Duration 0.0000000000s - error 0.000000\n"
     ]
    },
    {
     "name": "stderr",
     "output_type": "stream",
     "text": [
      "2024-11-30 20:19:16,214 - QmioBackend/0.1.5 - DEBUG - Added rz[23]- Duration 0.0000000000s - error 0.000000\n"
     ]
    },
    {
     "name": "stdout",
     "output_type": "stream",
     "text": [
      "2024-11-30 20:19:16,214 - QmioBackend/0.1.5 - DEBUG - Added rz[24]- Duration 0.0000000000s - error 0.000000\n"
     ]
    },
    {
     "name": "stderr",
     "output_type": "stream",
     "text": [
      "2024-11-30 20:19:16,214 - QmioBackend/0.1.5 - DEBUG - Added rz[24]- Duration 0.0000000000s - error 0.000000\n"
     ]
    },
    {
     "name": "stdout",
     "output_type": "stream",
     "text": [
      "2024-11-30 20:19:16,215 - QmioBackend/0.1.5 - DEBUG - Added rz[25]- Duration 0.0000000000s - error 0.000000\n"
     ]
    },
    {
     "name": "stderr",
     "output_type": "stream",
     "text": [
      "2024-11-30 20:19:16,215 - QmioBackend/0.1.5 - DEBUG - Added rz[25]- Duration 0.0000000000s - error 0.000000\n"
     ]
    },
    {
     "name": "stdout",
     "output_type": "stream",
     "text": [
      "2024-11-30 20:19:16,216 - QmioBackend/0.1.5 - DEBUG - Added rz[26]- Duration 0.0000000000s - error 0.000000\n"
     ]
    },
    {
     "name": "stderr",
     "output_type": "stream",
     "text": [
      "2024-11-30 20:19:16,216 - QmioBackend/0.1.5 - DEBUG - Added rz[26]- Duration 0.0000000000s - error 0.000000\n"
     ]
    },
    {
     "name": "stdout",
     "output_type": "stream",
     "text": [
      "2024-11-30 20:19:16,225 - QmioBackend/0.1.5 - DEBUG - Added rz[27]- Duration 0.0000000000s - error 0.000000\n"
     ]
    },
    {
     "name": "stderr",
     "output_type": "stream",
     "text": [
      "2024-11-30 20:19:16,225 - QmioBackend/0.1.5 - DEBUG - Added rz[27]- Duration 0.0000000000s - error 0.000000\n"
     ]
    },
    {
     "name": "stdout",
     "output_type": "stream",
     "text": [
      "2024-11-30 20:19:16,226 - QmioBackend/0.1.5 - DEBUG - Added rz[28]- Duration 0.0000000000s - error 0.000000\n"
     ]
    },
    {
     "name": "stderr",
     "output_type": "stream",
     "text": [
      "2024-11-30 20:19:16,226 - QmioBackend/0.1.5 - DEBUG - Added rz[28]- Duration 0.0000000000s - error 0.000000\n"
     ]
    },
    {
     "name": "stdout",
     "output_type": "stream",
     "text": [
      "2024-11-30 20:19:16,227 - QmioBackend/0.1.5 - DEBUG - Added rz[29]- Duration 0.0000000000s - error 0.000000\n"
     ]
    },
    {
     "name": "stderr",
     "output_type": "stream",
     "text": [
      "2024-11-30 20:19:16,227 - QmioBackend/0.1.5 - DEBUG - Added rz[29]- Duration 0.0000000000s - error 0.000000\n"
     ]
    },
    {
     "name": "stdout",
     "output_type": "stream",
     "text": [
      "2024-11-30 20:19:16,228 - QmioBackend/0.1.5 - DEBUG - Added rz[30]- Duration 0.0000000000s - error 0.000000\n"
     ]
    },
    {
     "name": "stderr",
     "output_type": "stream",
     "text": [
      "2024-11-30 20:19:16,228 - QmioBackend/0.1.5 - DEBUG - Added rz[30]- Duration 0.0000000000s - error 0.000000\n"
     ]
    },
    {
     "name": "stdout",
     "output_type": "stream",
     "text": [
      "2024-11-30 20:19:16,229 - QmioBackend/0.1.5 - DEBUG - Added rz[31]- Duration 0.0000000000s - error 0.000000\n"
     ]
    },
    {
     "name": "stderr",
     "output_type": "stream",
     "text": [
      "2024-11-30 20:19:16,229 - QmioBackend/0.1.5 - DEBUG - Added rz[31]- Duration 0.0000000000s - error 0.000000\n"
     ]
    },
    {
     "name": "stdout",
     "output_type": "stream",
     "text": [
      "2024-11-30 20:19:16,231 - QmioBackend/0.1.5 - DEBUG - Added ecr_inst[(0,1) - duration 0.0000004800s - error 0.045420]\n"
     ]
    },
    {
     "name": "stderr",
     "output_type": "stream",
     "text": [
      "2024-11-30 20:19:16,231 - QmioBackend/0.1.5 - DEBUG - Added ecr_inst[(0,1) - duration 0.0000004800s - error 0.045420]\n"
     ]
    },
    {
     "name": "stdout",
     "output_type": "stream",
     "text": [
      "2024-11-30 20:19:16,232 - QmioBackend/0.1.5 - DEBUG - Added ecr_inst[(2,1) - duration 0.0000007680s - error 0.067490]\n"
     ]
    },
    {
     "name": "stderr",
     "output_type": "stream",
     "text": [
      "2024-11-30 20:19:16,232 - QmioBackend/0.1.5 - DEBUG - Added ecr_inst[(2,1) - duration 0.0000007680s - error 0.067490]\n"
     ]
    },
    {
     "name": "stdout",
     "output_type": "stream",
     "text": [
      "2024-11-30 20:19:16,233 - QmioBackend/0.1.5 - DEBUG - Added ecr_inst[(2,3) - duration 0.0000007680s - error 0.115820]\n"
     ]
    },
    {
     "name": "stderr",
     "output_type": "stream",
     "text": [
      "2024-11-30 20:19:16,233 - QmioBackend/0.1.5 - DEBUG - Added ecr_inst[(2,3) - duration 0.0000007680s - error 0.115820]\n"
     ]
    },
    {
     "name": "stdout",
     "output_type": "stream",
     "text": [
      "2024-11-30 20:19:16,234 - QmioBackend/0.1.5 - DEBUG - Added ecr_inst[(4,3) - duration 0.0000003520s - error 0.013930]\n"
     ]
    },
    {
     "name": "stderr",
     "output_type": "stream",
     "text": [
      "2024-11-30 20:19:16,234 - QmioBackend/0.1.5 - DEBUG - Added ecr_inst[(4,3) - duration 0.0000003520s - error 0.013930]\n"
     ]
    },
    {
     "name": "stdout",
     "output_type": "stream",
     "text": [
      "2024-11-30 20:19:16,235 - QmioBackend/0.1.5 - DEBUG - Added ecr_inst[(5,4) - duration 0.0000004160s - error 0.051770]\n"
     ]
    },
    {
     "name": "stderr",
     "output_type": "stream",
     "text": [
      "2024-11-30 20:19:16,235 - QmioBackend/0.1.5 - DEBUG - Added ecr_inst[(5,4) - duration 0.0000004160s - error 0.051770]\n"
     ]
    },
    {
     "name": "stdout",
     "output_type": "stream",
     "text": [
      "2024-11-30 20:19:16,236 - QmioBackend/0.1.5 - DEBUG - Added ecr_inst[(6,3) - duration 0.0000003520s - error 0.027490]\n"
     ]
    },
    {
     "name": "stderr",
     "output_type": "stream",
     "text": [
      "2024-11-30 20:19:16,236 - QmioBackend/0.1.5 - DEBUG - Added ecr_inst[(6,3) - duration 0.0000003520s - error 0.027490]\n"
     ]
    },
    {
     "name": "stdout",
     "output_type": "stream",
     "text": [
      "2024-11-30 20:19:16,238 - QmioBackend/0.1.5 - DEBUG - Added ecr_inst[(6,12) - duration 0.0000003520s - error 0.036780]\n"
     ]
    },
    {
     "name": "stderr",
     "output_type": "stream",
     "text": [
      "2024-11-30 20:19:16,238 - QmioBackend/0.1.5 - DEBUG - Added ecr_inst[(6,12) - duration 0.0000003520s - error 0.036780]\n"
     ]
    },
    {
     "name": "stdout",
     "output_type": "stream",
     "text": [
      "2024-11-30 20:19:16,239 - QmioBackend/0.1.5 - DEBUG - Added ecr_inst[(7,0) - duration 0.0000005440s - error 1.000000]\n"
     ]
    },
    {
     "name": "stderr",
     "output_type": "stream",
     "text": [
      "2024-11-30 20:19:16,239 - QmioBackend/0.1.5 - DEBUG - Added ecr_inst[(7,0) - duration 0.0000005440s - error 1.000000]\n"
     ]
    },
    {
     "name": "stdout",
     "output_type": "stream",
     "text": [
      "2024-11-30 20:19:16,240 - QmioBackend/0.1.5 - DEBUG - Added ecr_inst[(7,9) - duration 0.0000006720s - error 0.375240]\n"
     ]
    },
    {
     "name": "stderr",
     "output_type": "stream",
     "text": [
      "2024-11-30 20:19:16,240 - QmioBackend/0.1.5 - DEBUG - Added ecr_inst[(7,9) - duration 0.0000006720s - error 0.375240]\n"
     ]
    },
    {
     "name": "stdout",
     "output_type": "stream",
     "text": [
      "2024-11-30 20:19:16,248 - QmioBackend/0.1.5 - DEBUG - Added ecr_inst[(9,10) - duration 0.0000004320s - error 1.000000]\n"
     ]
    },
    {
     "name": "stderr",
     "output_type": "stream",
     "text": [
      "2024-11-30 20:19:16,248 - QmioBackend/0.1.5 - DEBUG - Added ecr_inst[(9,10) - duration 0.0000004320s - error 1.000000]\n"
     ]
    },
    {
     "name": "stdout",
     "output_type": "stream",
     "text": [
      "2024-11-30 20:19:16,249 - QmioBackend/0.1.5 - DEBUG - Added ecr_inst[(11,10) - duration 0.0000003520s - error 0.019800]\n"
     ]
    },
    {
     "name": "stderr",
     "output_type": "stream",
     "text": [
      "2024-11-30 20:19:16,249 - QmioBackend/0.1.5 - DEBUG - Added ecr_inst[(11,10) - duration 0.0000003520s - error 0.019800]\n"
     ]
    },
    {
     "name": "stdout",
     "output_type": "stream",
     "text": [
      "2024-11-30 20:19:16,250 - QmioBackend/0.1.5 - DEBUG - Added ecr_inst[(11,12) - duration 0.0000004160s - error 0.025080]\n"
     ]
    },
    {
     "name": "stderr",
     "output_type": "stream",
     "text": [
      "2024-11-30 20:19:16,250 - QmioBackend/0.1.5 - DEBUG - Added ecr_inst[(11,12) - duration 0.0000004160s - error 0.025080]\n"
     ]
    },
    {
     "name": "stdout",
     "output_type": "stream",
     "text": [
      "2024-11-30 20:19:16,251 - QmioBackend/0.1.5 - DEBUG - Added ecr_inst[(13,21) - duration 0.0000003520s - error 0.070310]\n"
     ]
    },
    {
     "name": "stderr",
     "output_type": "stream",
     "text": [
      "2024-11-30 20:19:16,251 - QmioBackend/0.1.5 - DEBUG - Added ecr_inst[(13,21) - duration 0.0000003520s - error 0.070310]\n"
     ]
    },
    {
     "name": "stdout",
     "output_type": "stream",
     "text": [
      "2024-11-30 20:19:16,251 - QmioBackend/0.1.5 - DEBUG - Added ecr_inst[(14,11) - duration 0.0000003200s - error 0.023490]\n"
     ]
    },
    {
     "name": "stderr",
     "output_type": "stream",
     "text": [
      "2024-11-30 20:19:16,251 - QmioBackend/0.1.5 - DEBUG - Added ecr_inst[(14,11) - duration 0.0000003200s - error 0.023490]\n"
     ]
    },
    {
     "name": "stdout",
     "output_type": "stream",
     "text": [
      "2024-11-30 20:19:16,252 - QmioBackend/0.1.5 - DEBUG - Added ecr_inst[(14,18) - duration 0.0000004960s - error 0.117210]\n"
     ]
    },
    {
     "name": "stderr",
     "output_type": "stream",
     "text": [
      "2024-11-30 20:19:16,252 - QmioBackend/0.1.5 - DEBUG - Added ecr_inst[(14,18) - duration 0.0000004960s - error 0.117210]\n"
     ]
    },
    {
     "name": "stdout",
     "output_type": "stream",
     "text": [
      "2024-11-30 20:19:16,252 - QmioBackend/0.1.5 - DEBUG - Added ecr_inst[(15,8) - duration 0.0000006400s - error 0.055160]\n"
     ]
    },
    {
     "name": "stderr",
     "output_type": "stream",
     "text": [
      "2024-11-30 20:19:16,252 - QmioBackend/0.1.5 - DEBUG - Added ecr_inst[(15,8) - duration 0.0000006400s - error 0.055160]\n"
     ]
    },
    {
     "name": "stdout",
     "output_type": "stream",
     "text": [
      "2024-11-30 20:19:16,253 - QmioBackend/0.1.5 - DEBUG - Added ecr_inst[(15,16) - duration 0.0000006400s - error 0.037380]\n"
     ]
    },
    {
     "name": "stderr",
     "output_type": "stream",
     "text": [
      "2024-11-30 20:19:16,253 - QmioBackend/0.1.5 - DEBUG - Added ecr_inst[(15,16) - duration 0.0000006400s - error 0.037380]\n"
     ]
    },
    {
     "name": "stdout",
     "output_type": "stream",
     "text": [
      "2024-11-30 20:19:16,254 - QmioBackend/0.1.5 - DEBUG - Added ecr_inst[(18,17) - duration 0.0000004000s - error 1.000000]\n"
     ]
    },
    {
     "name": "stderr",
     "output_type": "stream",
     "text": [
      "2024-11-30 20:19:16,254 - QmioBackend/0.1.5 - DEBUG - Added ecr_inst[(18,17) - duration 0.0000004000s - error 1.000000]\n"
     ]
    },
    {
     "name": "stdout",
     "output_type": "stream",
     "text": [
      "2024-11-30 20:19:16,255 - QmioBackend/0.1.5 - DEBUG - Added ecr_inst[(18,19) - duration 0.0000003520s - error 0.084710]\n"
     ]
    },
    {
     "name": "stderr",
     "output_type": "stream",
     "text": [
      "2024-11-30 20:19:16,255 - QmioBackend/0.1.5 - DEBUG - Added ecr_inst[(18,19) - duration 0.0000003520s - error 0.084710]\n"
     ]
    },
    {
     "name": "stdout",
     "output_type": "stream",
     "text": [
      "2024-11-30 20:19:16,255 - QmioBackend/0.1.5 - DEBUG - Added ecr_inst[(20,19) - duration 0.0000003520s - error 0.025810]\n"
     ]
    },
    {
     "name": "stderr",
     "output_type": "stream",
     "text": [
      "2024-11-30 20:19:16,255 - QmioBackend/0.1.5 - DEBUG - Added ecr_inst[(20,19) - duration 0.0000003520s - error 0.025810]\n"
     ]
    },
    {
     "name": "stdout",
     "output_type": "stream",
     "text": [
      "2024-11-30 20:19:16,256 - QmioBackend/0.1.5 - DEBUG - Added ecr_inst[(22,21) - duration 0.0000003520s - error 0.030690]\n"
     ]
    },
    {
     "name": "stderr",
     "output_type": "stream",
     "text": [
      "2024-11-30 20:19:16,256 - QmioBackend/0.1.5 - DEBUG - Added ecr_inst[(22,21) - duration 0.0000003520s - error 0.030690]\n"
     ]
    },
    {
     "name": "stdout",
     "output_type": "stream",
     "text": [
      "2024-11-30 20:19:16,257 - QmioBackend/0.1.5 - DEBUG - Added ecr_inst[(22,31) - duration 0.0000006400s - error 0.056820]\n"
     ]
    },
    {
     "name": "stderr",
     "output_type": "stream",
     "text": [
      "2024-11-30 20:19:16,257 - QmioBackend/0.1.5 - DEBUG - Added ecr_inst[(22,31) - duration 0.0000006400s - error 0.056820]\n"
     ]
    },
    {
     "name": "stdout",
     "output_type": "stream",
     "text": [
      "2024-11-30 20:19:16,257 - QmioBackend/0.1.5 - DEBUG - Added ecr_inst[(23,20) - duration 0.0000003520s - error 0.017990]\n"
     ]
    },
    {
     "name": "stderr",
     "output_type": "stream",
     "text": [
      "2024-11-30 20:19:16,257 - QmioBackend/0.1.5 - DEBUG - Added ecr_inst[(23,20) - duration 0.0000003520s - error 0.017990]\n"
     ]
    },
    {
     "name": "stdout",
     "output_type": "stream",
     "text": [
      "2024-11-30 20:19:16,258 - QmioBackend/0.1.5 - DEBUG - Added ecr_inst[(23,30) - duration 0.0000003520s - error 0.021450]\n"
     ]
    },
    {
     "name": "stderr",
     "output_type": "stream",
     "text": [
      "2024-11-30 20:19:16,258 - QmioBackend/0.1.5 - DEBUG - Added ecr_inst[(23,30) - duration 0.0000003520s - error 0.021450]\n"
     ]
    },
    {
     "name": "stdout",
     "output_type": "stream",
     "text": [
      "2024-11-30 20:19:16,258 - QmioBackend/0.1.5 - DEBUG - Added ecr_inst[(24,17) - duration 0.0000006720s - error 1.000000]\n"
     ]
    },
    {
     "name": "stderr",
     "output_type": "stream",
     "text": [
      "2024-11-30 20:19:16,258 - QmioBackend/0.1.5 - DEBUG - Added ecr_inst[(24,17) - duration 0.0000006720s - error 1.000000]\n"
     ]
    },
    {
     "name": "stdout",
     "output_type": "stream",
     "text": [
      "2024-11-30 20:19:16,259 - QmioBackend/0.1.5 - DEBUG - Added ecr_inst[(24,27) - duration 0.0000007040s - error 0.102990]\n"
     ]
    },
    {
     "name": "stderr",
     "output_type": "stream",
     "text": [
      "2024-11-30 20:19:16,259 - QmioBackend/0.1.5 - DEBUG - Added ecr_inst[(24,27) - duration 0.0000007040s - error 0.102990]\n"
     ]
    },
    {
     "name": "stdout",
     "output_type": "stream",
     "text": [
      "2024-11-30 20:19:16,260 - QmioBackend/0.1.5 - DEBUG - Added ecr_inst[(25,16) - duration 0.0000003520s - error 0.043850]\n"
     ]
    },
    {
     "name": "stderr",
     "output_type": "stream",
     "text": [
      "2024-11-30 20:19:16,260 - QmioBackend/0.1.5 - DEBUG - Added ecr_inst[(25,16) - duration 0.0000003520s - error 0.043850]\n"
     ]
    },
    {
     "name": "stdout",
     "output_type": "stream",
     "text": [
      "2024-11-30 20:19:16,261 - QmioBackend/0.1.5 - DEBUG - Added ecr_inst[(25,26) - duration 0.0000003520s - error 0.045970]\n"
     ]
    },
    {
     "name": "stderr",
     "output_type": "stream",
     "text": [
      "2024-11-30 20:19:16,261 - QmioBackend/0.1.5 - DEBUG - Added ecr_inst[(25,26) - duration 0.0000003520s - error 0.045970]\n"
     ]
    },
    {
     "name": "stdout",
     "output_type": "stream",
     "text": [
      "2024-11-30 20:19:16,261 - QmioBackend/0.1.5 - DEBUG - Added ecr_inst[(26,27) - duration 0.0000006720s - error 0.060070]\n"
     ]
    },
    {
     "name": "stderr",
     "output_type": "stream",
     "text": [
      "2024-11-30 20:19:16,261 - QmioBackend/0.1.5 - DEBUG - Added ecr_inst[(26,27) - duration 0.0000006720s - error 0.060070]\n"
     ]
    },
    {
     "name": "stdout",
     "output_type": "stream",
     "text": [
      "2024-11-30 20:19:16,262 - QmioBackend/0.1.5 - DEBUG - Added ecr_inst[(28,27) - duration 0.0000006400s - error 0.150570]\n"
     ]
    },
    {
     "name": "stderr",
     "output_type": "stream",
     "text": [
      "2024-11-30 20:19:16,262 - QmioBackend/0.1.5 - DEBUG - Added ecr_inst[(28,27) - duration 0.0000006400s - error 0.150570]\n"
     ]
    },
    {
     "name": "stdout",
     "output_type": "stream",
     "text": [
      "2024-11-30 20:19:16,263 - QmioBackend/0.1.5 - DEBUG - Added ecr_inst[(28,29) - duration 0.0000003520s - error 0.119420]\n"
     ]
    },
    {
     "name": "stderr",
     "output_type": "stream",
     "text": [
      "2024-11-30 20:19:16,263 - QmioBackend/0.1.5 - DEBUG - Added ecr_inst[(28,29) - duration 0.0000003520s - error 0.119420]\n"
     ]
    },
    {
     "name": "stdout",
     "output_type": "stream",
     "text": [
      "2024-11-30 20:19:16,264 - QmioBackend/0.1.5 - DEBUG - Added ecr_inst[(30,29) - duration 0.0000003520s - error 0.116530]\n"
     ]
    },
    {
     "name": "stderr",
     "output_type": "stream",
     "text": [
      "2024-11-30 20:19:16,264 - QmioBackend/0.1.5 - DEBUG - Added ecr_inst[(30,29) - duration 0.0000003520s - error 0.116530]\n"
     ]
    },
    {
     "name": "stdout",
     "output_type": "stream",
     "text": [
      "2024-11-30 20:19:16,265 - QmioBackend/0.1.5 - DEBUG - Added ecr_inst[(30,31) - duration 0.0000003520s - error 0.036320]\n"
     ]
    },
    {
     "name": "stderr",
     "output_type": "stream",
     "text": [
      "2024-11-30 20:19:16,265 - QmioBackend/0.1.5 - DEBUG - Added ecr_inst[(30,31) - duration 0.0000003520s - error 0.036320]\n"
     ]
    },
    {
     "name": "stdout",
     "output_type": "stream",
     "text": [
      "2024-11-30 20:19:16,266 - QmioBackend/0.1.5 - DEBUG - measures[0] - duration 0.0000080000s - error 0.363200\n"
     ]
    },
    {
     "name": "stderr",
     "output_type": "stream",
     "text": [
      "2024-11-30 20:19:16,266 - QmioBackend/0.1.5 - DEBUG - measures[0] - duration 0.0000080000s - error 0.363200\n"
     ]
    },
    {
     "name": "stdout",
     "output_type": "stream",
     "text": [
      "2024-11-30 20:19:16,266 - QmioBackend/0.1.5 - DEBUG - measures[1] - duration 0.0000055150s - error 0.076700\n"
     ]
    },
    {
     "name": "stderr",
     "output_type": "stream",
     "text": [
      "2024-11-30 20:19:16,266 - QmioBackend/0.1.5 - DEBUG - measures[1] - duration 0.0000055150s - error 0.076700\n"
     ]
    },
    {
     "name": "stdout",
     "output_type": "stream",
     "text": [
      "2024-11-30 20:19:16,267 - QmioBackend/0.1.5 - DEBUG - measures[2] - duration 0.0000056952s - error 0.175000\n"
     ]
    },
    {
     "name": "stderr",
     "output_type": "stream",
     "text": [
      "2024-11-30 20:19:16,267 - QmioBackend/0.1.5 - DEBUG - measures[2] - duration 0.0000056952s - error 0.175000\n"
     ]
    },
    {
     "name": "stdout",
     "output_type": "stream",
     "text": [
      "2024-11-30 20:19:16,268 - QmioBackend/0.1.5 - DEBUG - measures[3] - duration 0.0000057032s - error 0.084600\n"
     ]
    },
    {
     "name": "stderr",
     "output_type": "stream",
     "text": [
      "2024-11-30 20:19:16,268 - QmioBackend/0.1.5 - DEBUG - measures[3] - duration 0.0000057032s - error 0.084600\n"
     ]
    },
    {
     "name": "stdout",
     "output_type": "stream",
     "text": [
      "2024-11-30 20:19:16,269 - QmioBackend/0.1.5 - DEBUG - measures[4] - duration 0.0000050000s - error 0.288800\n"
     ]
    },
    {
     "name": "stderr",
     "output_type": "stream",
     "text": [
      "2024-11-30 20:19:16,269 - QmioBackend/0.1.5 - DEBUG - measures[4] - duration 0.0000050000s - error 0.288800\n"
     ]
    },
    {
     "name": "stdout",
     "output_type": "stream",
     "text": [
      "2024-11-30 20:19:16,269 - QmioBackend/0.1.5 - DEBUG - measures[5] - duration 0.0000042012s - error 0.115200\n"
     ]
    },
    {
     "name": "stderr",
     "output_type": "stream",
     "text": [
      "2024-11-30 20:19:16,269 - QmioBackend/0.1.5 - DEBUG - measures[5] - duration 0.0000042012s - error 0.115200\n"
     ]
    },
    {
     "name": "stdout",
     "output_type": "stream",
     "text": [
      "2024-11-30 20:19:16,270 - QmioBackend/0.1.5 - DEBUG - measures[6] - duration 0.0000070385s - error 0.052500\n"
     ]
    },
    {
     "name": "stderr",
     "output_type": "stream",
     "text": [
      "2024-11-30 20:19:16,270 - QmioBackend/0.1.5 - DEBUG - measures[6] - duration 0.0000070385s - error 0.052500\n"
     ]
    },
    {
     "name": "stdout",
     "output_type": "stream",
     "text": [
      "2024-11-30 20:19:16,271 - QmioBackend/0.1.5 - DEBUG - measures[7] - duration 0.0000077973s - error 0.245300\n"
     ]
    },
    {
     "name": "stderr",
     "output_type": "stream",
     "text": [
      "2024-11-30 20:19:16,271 - QmioBackend/0.1.5 - DEBUG - measures[7] - duration 0.0000077973s - error 0.245300\n"
     ]
    },
    {
     "name": "stdout",
     "output_type": "stream",
     "text": [
      "2024-11-30 20:19:16,272 - QmioBackend/0.1.5 - DEBUG - measures[8] - duration 0.0000120000s - error 0.112600\n"
     ]
    },
    {
     "name": "stderr",
     "output_type": "stream",
     "text": [
      "2024-11-30 20:19:16,272 - QmioBackend/0.1.5 - DEBUG - measures[8] - duration 0.0000120000s - error 0.112600\n"
     ]
    },
    {
     "name": "stdout",
     "output_type": "stream",
     "text": [
      "2024-11-30 20:19:16,272 - QmioBackend/0.1.5 - DEBUG - measures[9] - duration 0.0000080170s - error 0.204100\n"
     ]
    },
    {
     "name": "stderr",
     "output_type": "stream",
     "text": [
      "2024-11-30 20:19:16,272 - QmioBackend/0.1.5 - DEBUG - measures[9] - duration 0.0000080170s - error 0.204100\n"
     ]
    },
    {
     "name": "stdout",
     "output_type": "stream",
     "text": [
      "2024-11-30 20:19:16,273 - QmioBackend/0.1.5 - DEBUG - measures[10] - duration 0.0000051507s - error 0.113300\n"
     ]
    },
    {
     "name": "stderr",
     "output_type": "stream",
     "text": [
      "2024-11-30 20:19:16,273 - QmioBackend/0.1.5 - DEBUG - measures[10] - duration 0.0000051507s - error 0.113300\n"
     ]
    },
    {
     "name": "stdout",
     "output_type": "stream",
     "text": [
      "2024-11-30 20:19:16,274 - QmioBackend/0.1.5 - DEBUG - measures[11] - duration 0.0000076486s - error 0.077900\n"
     ]
    },
    {
     "name": "stderr",
     "output_type": "stream",
     "text": [
      "2024-11-30 20:19:16,274 - QmioBackend/0.1.5 - DEBUG - measures[11] - duration 0.0000076486s - error 0.077900\n"
     ]
    },
    {
     "name": "stdout",
     "output_type": "stream",
     "text": [
      "2024-11-30 20:19:16,274 - QmioBackend/0.1.5 - DEBUG - measures[12] - duration 0.0000052888s - error 0.083700\n"
     ]
    },
    {
     "name": "stderr",
     "output_type": "stream",
     "text": [
      "2024-11-30 20:19:16,274 - QmioBackend/0.1.5 - DEBUG - measures[12] - duration 0.0000052888s - error 0.083700\n"
     ]
    },
    {
     "name": "stdout",
     "output_type": "stream",
     "text": [
      "2024-11-30 20:19:16,275 - QmioBackend/0.1.5 - DEBUG - measures[13] - duration 0.0000073954s - error 0.066400\n"
     ]
    },
    {
     "name": "stderr",
     "output_type": "stream",
     "text": [
      "2024-11-30 20:19:16,275 - QmioBackend/0.1.5 - DEBUG - measures[13] - duration 0.0000073954s - error 0.066400\n"
     ]
    },
    {
     "name": "stdout",
     "output_type": "stream",
     "text": [
      "2024-11-30 20:19:16,276 - QmioBackend/0.1.5 - DEBUG - measures[14] - duration 0.0000170720s - error 0.188100\n"
     ]
    },
    {
     "name": "stderr",
     "output_type": "stream",
     "text": [
      "2024-11-30 20:19:16,276 - QmioBackend/0.1.5 - DEBUG - measures[14] - duration 0.0000170720s - error 0.188100\n"
     ]
    },
    {
     "name": "stdout",
     "output_type": "stream",
     "text": [
      "2024-11-30 20:19:16,276 - QmioBackend/0.1.5 - DEBUG - measures[15] - duration 0.0000120000s - error 0.063100\n"
     ]
    },
    {
     "name": "stderr",
     "output_type": "stream",
     "text": [
      "2024-11-30 20:19:16,276 - QmioBackend/0.1.5 - DEBUG - measures[15] - duration 0.0000120000s - error 0.063100\n"
     ]
    },
    {
     "name": "stdout",
     "output_type": "stream",
     "text": [
      "2024-11-30 20:19:16,277 - QmioBackend/0.1.5 - DEBUG - measures[16] - duration 0.0000046096s - error 0.058100\n"
     ]
    },
    {
     "name": "stderr",
     "output_type": "stream",
     "text": [
      "2024-11-30 20:19:16,277 - QmioBackend/0.1.5 - DEBUG - measures[16] - duration 0.0000046096s - error 0.058100\n"
     ]
    },
    {
     "name": "stdout",
     "output_type": "stream",
     "text": [
      "2024-11-30 20:19:16,278 - QmioBackend/0.1.5 - DEBUG - measures[17] - duration 0.0000180000s - error 0.363800\n"
     ]
    },
    {
     "name": "stderr",
     "output_type": "stream",
     "text": [
      "2024-11-30 20:19:16,278 - QmioBackend/0.1.5 - DEBUG - measures[17] - duration 0.0000180000s - error 0.363800\n"
     ]
    },
    {
     "name": "stdout",
     "output_type": "stream",
     "text": [
      "2024-11-30 20:19:16,278 - QmioBackend/0.1.5 - DEBUG - measures[18] - duration 0.0000120000s - error 0.168100\n"
     ]
    },
    {
     "name": "stderr",
     "output_type": "stream",
     "text": [
      "2024-11-30 20:19:16,278 - QmioBackend/0.1.5 - DEBUG - measures[18] - duration 0.0000120000s - error 0.168100\n"
     ]
    },
    {
     "name": "stdout",
     "output_type": "stream",
     "text": [
      "2024-11-30 20:19:16,279 - QmioBackend/0.1.5 - DEBUG - measures[19] - duration 0.0000054154s - error 0.069700\n"
     ]
    },
    {
     "name": "stderr",
     "output_type": "stream",
     "text": [
      "2024-11-30 20:19:16,279 - QmioBackend/0.1.5 - DEBUG - measures[19] - duration 0.0000054154s - error 0.069700\n"
     ]
    },
    {
     "name": "stdout",
     "output_type": "stream",
     "text": [
      "2024-11-30 20:19:16,280 - QmioBackend/0.1.5 - DEBUG - measures[20] - duration 0.0000120000s - error 0.095400\n"
     ]
    },
    {
     "name": "stderr",
     "output_type": "stream",
     "text": [
      "2024-11-30 20:19:16,280 - QmioBackend/0.1.5 - DEBUG - measures[20] - duration 0.0000120000s - error 0.095400\n"
     ]
    },
    {
     "name": "stdout",
     "output_type": "stream",
     "text": [
      "2024-11-30 20:19:16,280 - QmioBackend/0.1.5 - DEBUG - measures[21] - duration 0.0000037347s - error 0.107300\n"
     ]
    },
    {
     "name": "stderr",
     "output_type": "stream",
     "text": [
      "2024-11-30 20:19:16,280 - QmioBackend/0.1.5 - DEBUG - measures[21] - duration 0.0000037347s - error 0.107300\n"
     ]
    },
    {
     "name": "stdout",
     "output_type": "stream",
     "text": [
      "2024-11-30 20:19:16,281 - QmioBackend/0.1.5 - DEBUG - measures[22] - duration 0.0000108950s - error 0.137500\n"
     ]
    },
    {
     "name": "stderr",
     "output_type": "stream",
     "text": [
      "2024-11-30 20:19:16,281 - QmioBackend/0.1.5 - DEBUG - measures[22] - duration 0.0000108950s - error 0.137500\n"
     ]
    },
    {
     "name": "stdout",
     "output_type": "stream",
     "text": [
      "2024-11-30 20:19:16,282 - QmioBackend/0.1.5 - DEBUG - measures[23] - duration 0.0000120000s - error 0.120100\n"
     ]
    },
    {
     "name": "stderr",
     "output_type": "stream",
     "text": [
      "2024-11-30 20:19:16,282 - QmioBackend/0.1.5 - DEBUG - measures[23] - duration 0.0000120000s - error 0.120100\n"
     ]
    },
    {
     "name": "stdout",
     "output_type": "stream",
     "text": [
      "2024-11-30 20:19:16,282 - QmioBackend/0.1.5 - DEBUG - measures[24] - duration 0.0000120000s - error 0.155600\n"
     ]
    },
    {
     "name": "stderr",
     "output_type": "stream",
     "text": [
      "2024-11-30 20:19:16,282 - QmioBackend/0.1.5 - DEBUG - measures[24] - duration 0.0000120000s - error 0.155600\n"
     ]
    },
    {
     "name": "stdout",
     "output_type": "stream",
     "text": [
      "2024-11-30 20:19:16,283 - QmioBackend/0.1.5 - DEBUG - measures[25] - duration 0.0000079940s - error 0.085800\n"
     ]
    },
    {
     "name": "stderr",
     "output_type": "stream",
     "text": [
      "2024-11-30 20:19:16,283 - QmioBackend/0.1.5 - DEBUG - measures[25] - duration 0.0000079940s - error 0.085800\n"
     ]
    },
    {
     "name": "stdout",
     "output_type": "stream",
     "text": [
      "2024-11-30 20:19:16,284 - QmioBackend/0.1.5 - DEBUG - measures[26] - duration 0.0000120000s - error 0.193700\n"
     ]
    },
    {
     "name": "stderr",
     "output_type": "stream",
     "text": [
      "2024-11-30 20:19:16,284 - QmioBackend/0.1.5 - DEBUG - measures[26] - duration 0.0000120000s - error 0.193700\n"
     ]
    },
    {
     "name": "stdout",
     "output_type": "stream",
     "text": [
      "2024-11-30 20:19:16,284 - QmioBackend/0.1.5 - DEBUG - measures[27] - duration 0.0000067508s - error 0.067900\n"
     ]
    },
    {
     "name": "stderr",
     "output_type": "stream",
     "text": [
      "2024-11-30 20:19:16,284 - QmioBackend/0.1.5 - DEBUG - measures[27] - duration 0.0000067508s - error 0.067900\n"
     ]
    },
    {
     "name": "stdout",
     "output_type": "stream",
     "text": [
      "2024-11-30 20:19:16,285 - QmioBackend/0.1.5 - DEBUG - measures[28] - duration 0.0000120000s - error 0.124100\n"
     ]
    },
    {
     "name": "stderr",
     "output_type": "stream",
     "text": [
      "2024-11-30 20:19:16,285 - QmioBackend/0.1.5 - DEBUG - measures[28] - duration 0.0000120000s - error 0.124100\n"
     ]
    },
    {
     "name": "stdout",
     "output_type": "stream",
     "text": [
      "2024-11-30 20:19:16,286 - QmioBackend/0.1.5 - DEBUG - measures[29] - duration 0.0000061522s - error 0.173500\n"
     ]
    },
    {
     "name": "stderr",
     "output_type": "stream",
     "text": [
      "2024-11-30 20:19:16,286 - QmioBackend/0.1.5 - DEBUG - measures[29] - duration 0.0000061522s - error 0.173500\n"
     ]
    },
    {
     "name": "stdout",
     "output_type": "stream",
     "text": [
      "2024-11-30 20:19:16,286 - QmioBackend/0.1.5 - DEBUG - measures[30] - duration 0.0000120000s - error 0.124200\n"
     ]
    },
    {
     "name": "stderr",
     "output_type": "stream",
     "text": [
      "2024-11-30 20:19:16,286 - QmioBackend/0.1.5 - DEBUG - measures[30] - duration 0.0000120000s - error 0.124200\n"
     ]
    },
    {
     "name": "stdout",
     "output_type": "stream",
     "text": [
      "2024-11-30 20:19:16,287 - QmioBackend/0.1.5 - DEBUG - measures[31] - duration 0.0000075335s - error 0.099700\n"
     ]
    },
    {
     "name": "stderr",
     "output_type": "stream",
     "text": [
      "2024-11-30 20:19:16,287 - QmioBackend/0.1.5 - DEBUG - measures[31] - duration 0.0000075335s - error 0.099700\n"
     ]
    },
    {
     "name": "stdout",
     "output_type": "stream",
     "text": [
      "2024-11-30 20:19:16,288 - QmioBackend/0.1.5 - INFO - Default options Options(shots=10000, memory=False, repetition_period=None, res_format='binary_count', output_qasm3=False, tunnel_time_limit=None, reservation_name=None)\n"
     ]
    },
    {
     "name": "stderr",
     "output_type": "stream",
     "text": [
      "2024-11-30 20:19:16,288 - QmioBackend/0.1.5 - INFO - Default options Options(shots=10000, memory=False, repetition_period=None, res_format='binary_count', output_qasm3=False, tunnel_time_limit=None, reservation_name=None)\n"
     ]
    },
    {
     "name": "stdout",
     "output_type": "stream",
     "text": [
      "2024-11-30 20:19:16,289 - QmioBackend/0.1.5 - INFO - VERSION 0.1.5\n"
     ]
    },
    {
     "name": "stderr",
     "output_type": "stream",
     "text": [
      "2024-11-30 20:19:16,289 - QmioBackend/0.1.5 - INFO - VERSION 0.1.5\n"
     ]
    },
    {
     "name": "stdout",
     "output_type": "stream",
     "text": [
      "2024-11-30 20:19:16,289 - QmioBackend/0.1.5 - INFO - MAX CIRCUITS 1000\n"
     ]
    },
    {
     "name": "stderr",
     "output_type": "stream",
     "text": [
      "2024-11-30 20:19:16,289 - QmioBackend/0.1.5 - INFO - MAX CIRCUITS 1000\n"
     ]
    },
    {
     "name": "stdout",
     "output_type": "stream",
     "text": [
      "2024-11-30 20:19:16,290 - QmioBackend/0.1.5 - INFO - MAX SHOTS PER STEP 100000\n"
     ]
    },
    {
     "name": "stderr",
     "output_type": "stream",
     "text": [
      "2024-11-30 20:19:16,290 - QmioBackend/0.1.5 - INFO - MAX SHOTS PER STEP 100000\n"
     ]
    },
    {
     "name": "stdout",
     "output_type": "stream",
     "text": [
      "2024-11-30 20:19:16,291 - QmioBackend/0.1.5 - INFO - MAX SHOTS PER JOB 100000000\n"
     ]
    },
    {
     "name": "stderr",
     "output_type": "stream",
     "text": [
      "2024-11-30 20:19:16,291 - QmioBackend/0.1.5 - INFO - MAX SHOTS PER JOB 100000000\n"
     ]
    }
   ],
   "source": [
    "backend=QmioBackend(logging_level=3)"
   ]
  },
  {
   "cell_type": "code",
   "execution_count": 6,
   "id": "81c8bd1d",
   "metadata": {},
   "outputs": [
    {
     "data": {
      "image/png": "[encoded data removed]",
      "text/plain": [
       "<Figure size 417.879x204.68 with 1 Axes>"
      ]
     },
     "execution_count": 6,
     "metadata": {},
     "output_type": "execute_result"
    }
   ],
   "source": [
    "%matplotlib inline\n",
    "c=QuantumCircuit(2)\n",
    "c.h(0)\n",
    "c.cx(0,1)\n",
    "c.measure_all()\n",
    "c.draw(output=\"mpl\")"
   ]
  },
  {
   "cell_type": "code",
   "execution_count": 11,
   "id": "ec89c5ce",
   "metadata": {},
   "outputs": [
    {
     "data": {
      "image/png": "[encoded data removed]",
      "text/plain": [
       "<Figure size 417.879x204.68 with 1 Axes>"
      ]
     },
     "execution_count": 11,
     "metadata": {},
     "output_type": "execute_result"
    }
   ],
   "source": [
    "d=c.copy()\n",
    "d.name=\"Copy\"\n",
    "d.draw(output=\"mpl\")"
   ]
  },
  {
   "cell_type": "code",
   "execution_count": 8,
   "id": "8f210255",
   "metadata": {},
   "outputs": [
    {
     "name": "stderr",
     "output_type": "stream",
     "text": [
      "2024-11-30 20:19:26,562 - stevedore.extension - ERROR - Could not load 'noise_adaptive': module 'qiskit.transpiler.preset_passmanagers.builtin_plugins' has no attribute 'NoiseAdaptiveLayoutPassManager'\n",
      "2024-11-30 20:19:27,827 - stevedore.extension - ERROR - Could not load 'unroller': module 'qiskit.transpiler.preset_passmanagers.builtin_plugins' has no attribute 'UnrollerPassManager'\n",
      "2024-11-30 20:19:29,096 - stevedore.extension - ERROR - Could not load 'noise_adaptive': module 'qiskit.transpiler.preset_passmanagers.builtin_plugins' has no attribute 'NoiseAdaptiveLayoutPassManager'\n",
      "2024-11-30 20:19:29,098 - stevedore.extension - ERROR - Could not load 'unroller': module 'qiskit.transpiler.preset_passmanagers.builtin_plugins' has no attribute 'UnrollerPassManager'\n"
     ]
    },
    {
     "data": {
      "image/png": "[encoded data removed]",
      "text/plain": [
       "<Figure size 605.838x204.68 with 1 Axes>"
      ]
     },
     "execution_count": 8,
     "metadata": {},
     "output_type": "execute_result"
    }
   ],
   "source": [
    "\n",
    "qc_basis = transpile(c, backend)\n",
    "qc_basis.draw(output=\"mpl\",idle_wires=False)"
   ]
  },
  {
   "cell_type": "code",
   "execution_count": 9,
   "id": "870095cb",
   "metadata": {},
   "outputs": [
    {
     "name": "stderr",
     "output_type": "stream",
     "text": [
      "2024-11-30 20:19:31,680 - stevedore.extension - ERROR - Could not load 'noise_adaptive': module 'qiskit.transpiler.preset_passmanagers.builtin_plugins' has no attribute 'NoiseAdaptiveLayoutPassManager'\n",
      "2024-11-30 20:19:31,681 - stevedore.extension - ERROR - Could not load 'unroller': module 'qiskit.transpiler.preset_passmanagers.builtin_plugins' has no attribute 'UnrollerPassManager'\n",
      "2024-11-30 20:19:31,687 - stevedore.extension - ERROR - Could not load 'noise_adaptive': module 'qiskit.transpiler.preset_passmanagers.builtin_plugins' has no attribute 'NoiseAdaptiveLayoutPassManager'\n",
      "2024-11-30 20:19:31,689 - stevedore.extension - ERROR - Could not load 'unroller': module 'qiskit.transpiler.preset_passmanagers.builtin_plugins' has no attribute 'UnrollerPassManager'\n"
     ]
    },
    {
     "data": {
      "image/png": "[encoded data removed]",
      "text/plain": [
       "<Figure size 605.838x204.68 with 1 Axes>"
      ]
     },
     "execution_count": 9,
     "metadata": {},
     "output_type": "execute_result"
    }
   ],
   "source": [
    "qd_basis = transpile(d, backend)\n",
    "qd_basis.draw(output=\"mpl\",idle_wires=False)"
   ]
  },
  {
   "cell_type": "markdown",
   "id": "6a93a40e",
   "metadata": {},
   "source": [
    "# These cells only work if executed on Qmio infrastructure"
   ]
  },
  {
   "cell_type": "code",
   "execution_count": 12,
   "id": "25df10d5",
   "metadata": {},
   "outputs": [
    {
     "name": "stdout",
     "output_type": "stream",
     "text": [
      "2024-11-30 20:20:46,250 - QmioBackend/0.1.5 - INFO - Requested parameters: Shots 10000 - memory False - Repetition_period None - Res_format binary_count, tunnel_time_limit: None, reservation_name=None\n"
     ]
    },
    {
     "name": "stderr",
     "output_type": "stream",
     "text": [
      "2024-11-30 20:20:46,250 - QmioBackend/0.1.5 - INFO - Requested parameters: Shots 10000 - memory False - Repetition_period None - Res_format binary_count, tunnel_time_limit: None, reservation_name=None\n"
     ]
    },
    {
     "name": "stdout",
     "output_type": "stream",
     "text": [
      "2024-11-30 20:20:46,253 - QmioBackend/0.1.5 - DEBUG - Job id 4413a2aa-35af-4f76-9248-4080648402ff\n"
     ]
    },
    {
     "name": "stderr",
     "output_type": "stream",
     "text": [
      "2024-11-30 20:20:46,253 - QmioBackend/0.1.5 - DEBUG - Job id 4413a2aa-35af-4f76-9248-4080648402ff\n"
     ]
    },
    {
     "name": "stdout",
     "output_type": "stream",
     "text": [
      "2024-11-30 20:20:46,255 - QmioBackend/0.1.5 - DEBUG - Converting to OPENQASM 2.0\n"
     ]
    },
    {
     "name": "stderr",
     "output_type": "stream",
     "text": [
      "2024-11-30 20:20:46,255 - QmioBackend/0.1.5 - DEBUG - Converting to OPENQASM 2.0\n"
     ]
    },
    {
     "name": "stdout",
     "output_type": "stream",
     "text": [
      "2024-11-30 20:20:46,257 - QmioBackend/0.1.5 - DEBUG - Circuit to transform:\n",
      "OPENQASM 2.0;\n",
      "include \"qelib1.inc\";\n",
      "qreg q[2];\n",
      "creg meas[2];\n",
      "h q[0];\n",
      "cx q[0],q[1];\n",
      "barrier q[0],q[1];\n",
      "measure q[0] -> meas[0];\n",
      "measure q[1] -> meas[1];\n"
     ]
    },
    {
     "name": "stderr",
     "output_type": "stream",
     "text": [
      "2024-11-30 20:20:46,257 - QmioBackend/0.1.5 - DEBUG - Circuit to transform:\n",
      "OPENQASM 2.0;\n",
      "include \"qelib1.inc\";\n",
      "qreg q[2];\n",
      "creg meas[2];\n",
      "h q[0];\n",
      "cx q[0],q[1];\n",
      "barrier q[0],q[1];\n",
      "measure q[0] -> meas[0];\n",
      "measure q[1] -> meas[1];\n"
     ]
    },
    {
     "name": "stdout",
     "output_type": "stream",
     "text": [
      "2024-11-30 20:20:46,258 - QmioBackend/0.1.5 - INFO - QASM to execute OPENQASM 2.0;include \"qelib1.inc\";qreg q[2];creg meas[2];h q[0];cx q[0],q[1];barrier q[0],q[1];measure q[0] -> meas[0];measure q[1] -> meas[1];\n"
     ]
    },
    {
     "name": "stderr",
     "output_type": "stream",
     "text": [
      "2024-11-30 20:20:46,258 - QmioBackend/0.1.5 - INFO - QASM to execute OPENQASM 2.0;include \"qelib1.inc\";qreg q[2];creg meas[2];h q[0];cx q[0],q[1];barrier q[0],q[1];measure q[0] -> meas[0];measure q[1] -> meas[1];\n"
     ]
    },
    {
     "name": "stdout",
     "output_type": "stream",
     "text": [
      "2024-11-30 20:20:46,260 - QmioBackend/0.1.5 - INFO - Requesting SHOTS=10000\n"
     ]
    },
    {
     "name": "stderr",
     "output_type": "stream",
     "text": [
      "2024-11-30 20:20:46,260 - QmioBackend/0.1.5 - INFO - Requesting SHOTS=10000\n"
     ]
    },
    {
     "name": "stdout",
     "output_type": "stream",
     "text": [
      "2024-11-30 20:20:52,140 - QmioBackend/0.1.5 - DEBUG - Results:{'results': {'meas': {'00': 2242, '11': 1603, '10': 3876, '01': 2279}}, 'execution_metrics': {'optimized_circuit': 'OPENQASM 2.0;include \"qelib1.inc\";qreg q[2];creg meas[2];h q[0];cx q[0],q[1];barrier q[0],q[1];measure q[0] -> meas[0];measure q[1] -> meas[1];', 'optimized_instruction_count': 38}}\n"
     ]
    },
    {
     "name": "stderr",
     "output_type": "stream",
     "text": [
      "2024-11-30 20:20:52,140 - QmioBackend/0.1.5 - DEBUG - Results:{'results': {'meas': {'00': 2242, '11': 1603, '10': 3876, '01': 2279}}, 'execution_metrics': {'optimized_circuit': 'OPENQASM 2.0;include \"qelib1.inc\";qreg q[2];creg meas[2];h q[0];cx q[0],q[1];barrier q[0],q[1];measure q[0] -> meas[0];measure q[1] -> meas[1];', 'optimized_instruction_count': 38}}\n"
     ]
    },
    {
     "name": "stdout",
     "output_type": "stream",
     "text": [
      "2024-11-30 20:20:52,144 - QmioBackend/0.1.5 - DEBUG - Retorno counts: {'0x0': 2242, '0x3': 1603, '0x1': 3876, '0x2': 2279}\n"
     ]
    },
    {
     "name": "stderr",
     "output_type": "stream",
     "text": [
      "2024-11-30 20:20:52,144 - QmioBackend/0.1.5 - DEBUG - Retorno counts: {'0x0': 2242, '0x3': 1603, '0x1': 3876, '0x2': 2279}\n"
     ]
    },
    {
     "name": "stdout",
     "output_type": "stream",
     "text": [
      "2024-11-30 20:20:52,146 - QmioBackend/0.1.5 - DEBUG - Returning memory: []\n"
     ]
    },
    {
     "name": "stderr",
     "output_type": "stream",
     "text": [
      "2024-11-30 20:20:52,146 - QmioBackend/0.1.5 - DEBUG - Returning memory: []\n"
     ]
    },
    {
     "name": "stdout",
     "output_type": "stream",
     "text": [
      "2024-11-30 20:20:52,148 - QmioBackend/0.1.5 - DEBUG - Converting to OPENQASM 2.0\n"
     ]
    },
    {
     "name": "stderr",
     "output_type": "stream",
     "text": [
      "2024-11-30 20:20:52,148 - QmioBackend/0.1.5 - DEBUG - Converting to OPENQASM 2.0\n"
     ]
    },
    {
     "name": "stdout",
     "output_type": "stream",
     "text": [
      "2024-11-30 20:20:52,150 - QmioBackend/0.1.5 - DEBUG - Circuit to transform:\n",
      "OPENQASM 2.0;\n",
      "include \"qelib1.inc\";\n",
      "qreg q[2];\n",
      "creg meas[2];\n",
      "h q[0];\n",
      "cx q[0],q[1];\n",
      "barrier q[0],q[1];\n",
      "measure q[0] -> meas[0];\n",
      "measure q[1] -> meas[1];\n"
     ]
    },
    {
     "name": "stderr",
     "output_type": "stream",
     "text": [
      "2024-11-30 20:20:52,150 - QmioBackend/0.1.5 - DEBUG - Circuit to transform:\n",
      "OPENQASM 2.0;\n",
      "include \"qelib1.inc\";\n",
      "qreg q[2];\n",
      "creg meas[2];\n",
      "h q[0];\n",
      "cx q[0],q[1];\n",
      "barrier q[0],q[1];\n",
      "measure q[0] -> meas[0];\n",
      "measure q[1] -> meas[1];\n"
     ]
    },
    {
     "name": "stdout",
     "output_type": "stream",
     "text": [
      "2024-11-30 20:20:52,152 - QmioBackend/0.1.5 - INFO - QASM to execute OPENQASM 2.0;include \"qelib1.inc\";qreg q[2];creg meas[2];h q[0];cx q[0],q[1];barrier q[0],q[1];measure q[0] -> meas[0];measure q[1] -> meas[1];\n"
     ]
    },
    {
     "name": "stderr",
     "output_type": "stream",
     "text": [
      "2024-11-30 20:20:52,152 - QmioBackend/0.1.5 - INFO - QASM to execute OPENQASM 2.0;include \"qelib1.inc\";qreg q[2];creg meas[2];h q[0];cx q[0],q[1];barrier q[0],q[1];measure q[0] -> meas[0];measure q[1] -> meas[1];\n"
     ]
    },
    {
     "name": "stdout",
     "output_type": "stream",
     "text": [
      "2024-11-30 20:20:52,153 - QmioBackend/0.1.5 - INFO - Requesting SHOTS=10000\n"
     ]
    },
    {
     "name": "stderr",
     "output_type": "stream",
     "text": [
      "2024-11-30 20:20:52,153 - QmioBackend/0.1.5 - INFO - Requesting SHOTS=10000\n"
     ]
    },
    {
     "name": "stdout",
     "output_type": "stream",
     "text": [
      "2024-11-30 20:20:57,980 - QmioBackend/0.1.5 - DEBUG - Results:{'results': {'meas': {'10': 3807, '00': 2295, '11': 1650, '01': 2248}}, 'execution_metrics': {'optimized_circuit': 'OPENQASM 2.0;include \"qelib1.inc\";qreg q[2];creg meas[2];h q[0];cx q[0],q[1];barrier q[0],q[1];measure q[0] -> meas[0];measure q[1] -> meas[1];', 'optimized_instruction_count': 38}}\n"
     ]
    },
    {
     "name": "stderr",
     "output_type": "stream",
     "text": [
      "2024-11-30 20:20:57,980 - QmioBackend/0.1.5 - DEBUG - Results:{'results': {'meas': {'10': 3807, '00': 2295, '11': 1650, '01': 2248}}, 'execution_metrics': {'optimized_circuit': 'OPENQASM 2.0;include \"qelib1.inc\";qreg q[2];creg meas[2];h q[0];cx q[0],q[1];barrier q[0],q[1];measure q[0] -> meas[0];measure q[1] -> meas[1];', 'optimized_instruction_count': 38}}\n"
     ]
    },
    {
     "name": "stdout",
     "output_type": "stream",
     "text": [
      "2024-11-30 20:20:57,985 - QmioBackend/0.1.5 - DEBUG - Retorno counts: {'0x1': 3807, '0x0': 2295, '0x3': 1650, '0x2': 2248}\n"
     ]
    },
    {
     "name": "stderr",
     "output_type": "stream",
     "text": [
      "2024-11-30 20:20:57,985 - QmioBackend/0.1.5 - DEBUG - Retorno counts: {'0x1': 3807, '0x0': 2295, '0x3': 1650, '0x2': 2248}\n"
     ]
    },
    {
     "name": "stdout",
     "output_type": "stream",
     "text": [
      "2024-11-30 20:20:57,988 - QmioBackend/0.1.5 - DEBUG - Returning memory: []\n"
     ]
    },
    {
     "name": "stderr",
     "output_type": "stream",
     "text": [
      "2024-11-30 20:20:57,988 - QmioBackend/0.1.5 - DEBUG - Returning memory: []\n"
     ]
    },
    {
     "name": "stdout",
     "output_type": "stream",
     "text": [
      "2024-11-30 20:20:57,990 - QmioBackend/0.1.5 - DEBUG - Final Results returned: {'backend_name': 'Qmio', 'backend_version': '0.1.5', 'qobj_id': None, 'job_id': UUID('4413a2aa-35af-4f76-9248-4080648402ff'), 'success': True, 'results': [{'shots': 10000, 'success': True, 'header': {'name': 'circuit-166', 'creg_sizes': [['meas', 2]], 'memory_slots': 2, 'n_qubits': 2, 'qreg_sizes': [['q', 2]], 'metadata': {'execution_metrics': {'optimized_circuit': 'OPENQASM 2.0;include \"qelib1.inc\";qreg q[2];creg meas[2];h q[0];cx q[0],q[1];barrier q[0],q[1];measure q[0] -> meas[0];measure q[1] -> meas[1];', 'optimized_instruction_count': 38}, 'repetition_period': None, 'res_format': 'binary_count'}}, 'data': {'counts': {'0x0': 2242, '0x3': 1603, '0x1': 3876, '0x2': 2279}, 'metadata': {'execution_metrics': {'optimized_circuit': 'OPENQASM 2.0;include \"qelib1.inc\";qreg q[2];creg meas[2];h q[0];cx q[0],q[1];barrier q[0],q[1];measure q[0] -> meas[0];measure q[1] -> meas[1];', 'optimized_instruction_count': 38}, 'repetition_period': None, 'res_format': 'binary_count'}}}, {'shots': 10000, 'success': True, 'header': {'name': 'Copy', 'creg_sizes': [['meas', 2]], 'memory_slots': 2, 'n_qubits': 2, 'qreg_sizes': [['q', 2]], 'metadata': {'execution_metrics': {'optimized_circuit': 'OPENQASM 2.0;include \"qelib1.inc\";qreg q[2];creg meas[2];h q[0];cx q[0],q[1];barrier q[0],q[1];measure q[0] -> meas[0];measure q[1] -> meas[1];', 'optimized_instruction_count': 38}, 'repetition_period': None, 'res_format': 'binary_count'}}, 'data': {'counts': {'0x1': 3807, '0x0': 2295, '0x3': 1650, '0x2': 2248}, 'metadata': {'execution_metrics': {'optimized_circuit': 'OPENQASM 2.0;include \"qelib1.inc\";qreg q[2];creg meas[2];h q[0];cx q[0],q[1];barrier q[0],q[1];measure q[0] -> meas[0];measure q[1] -> meas[1];', 'optimized_instruction_count': 38}, 'repetition_period': None, 'res_format': 'binary_count'}}}], 'date': '2024-11-30T20:20:57.990793'}\n"
     ]
    },
    {
     "name": "stderr",
     "output_type": "stream",
     "text": [
      "2024-11-30 20:20:57,990 - QmioBackend/0.1.5 - DEBUG - Final Results returned: {'backend_name': 'Qmio', 'backend_version': '0.1.5', 'qobj_id': None, 'job_id': UUID('4413a2aa-35af-4f76-9248-4080648402ff'), 'success': True, 'results': [{'shots': 10000, 'success': True, 'header': {'name': 'circuit-166', 'creg_sizes': [['meas', 2]], 'memory_slots': 2, 'n_qubits': 2, 'qreg_sizes': [['q', 2]], 'metadata': {'execution_metrics': {'optimized_circuit': 'OPENQASM 2.0;include \"qelib1.inc\";qreg q[2];creg meas[2];h q[0];cx q[0],q[1];barrier q[0],q[1];measure q[0] -> meas[0];measure q[1] -> meas[1];', 'optimized_instruction_count': 38}, 'repetition_period': None, 'res_format': 'binary_count'}}, 'data': {'counts': {'0x0': 2242, '0x3': 1603, '0x1': 3876, '0x2': 2279}, 'metadata': {'execution_metrics': {'optimized_circuit': 'OPENQASM 2.0;include \"qelib1.inc\";qreg q[2];creg meas[2];h q[0];cx q[0],q[1];barrier q[0],q[1];measure q[0] -> meas[0];measure q[1] -> meas[1];', 'optimized_instruction_count': 38}, 'repetition_period': None, 'res_format': 'binary_count'}}}, {'shots': 10000, 'success': True, 'header': {'name': 'Copy', 'creg_sizes': [['meas', 2]], 'memory_slots': 2, 'n_qubits': 2, 'qreg_sizes': [['q', 2]], 'metadata': {'execution_metrics': {'optimized_circuit': 'OPENQASM 2.0;include \"qelib1.inc\";qreg q[2];creg meas[2];h q[0];cx q[0],q[1];barrier q[0],q[1];measure q[0] -> meas[0];measure q[1] -> meas[1];', 'optimized_instruction_count': 38}, 'repetition_period': None, 'res_format': 'binary_count'}}, 'data': {'counts': {'0x1': 3807, '0x0': 2295, '0x3': 1650, '0x2': 2248}, 'metadata': {'execution_metrics': {'optimized_circuit': 'OPENQASM 2.0;include \"qelib1.inc\";qreg q[2];creg meas[2];h q[0];cx q[0],q[1];barrier q[0],q[1];measure q[0] -> meas[0];measure q[1] -> meas[1];', 'optimized_instruction_count': 38}, 'repetition_period': None, 'res_format': 'binary_count'}}}], 'date': '2024-11-30T20:20:57.990793'}\n"
     ]
    },
    {
     "data": {
      "image/png": "[encoded data removed]",
      "text/plain": [
       "<Figure size 432x288 with 1 Axes>"
      ]
     },
     "execution_count": 12,
     "metadata": {},
     "output_type": "execute_result"
    }
   ],
   "source": [
    "job=backend.run([c,d], shots=10000)\n",
    "job.result().get_counts(c)\n",
    "from qiskit.visualization import plot_histogram\n",
    "plot_histogram(job.result().get_counts(), title=\"Without Optimisation\")"
   ]
  },
  {
   "cell_type": "code",
   "execution_count": 12,
   "id": "d5307386",
   "metadata": {},
   "outputs": [
    {
     "name": "stdout",
     "output_type": "stream",
     "text": [
      "{'10': 3986, '01': 2060, '00': 1574, '11': 2380}\n"
     ]
    },
    {
     "name": "stderr",
     "output_type": "stream",
     "text": [
      "/opt/cesga/qmio/hpc/software/Compiler/gcc/12.3.0/qiskit/1.2.4-python-3.9.9/lib/python3.9/site-packages/qiskit/result/result.py:379: UserWarning: Result object contained multiple results matching name \"circuit-166\", only first match will be returned. Use an integer index to retrieve results for all entries.\n",
      "  warnings.warn(\n"
     ]
    },
    {
     "data": {
      "image/png": "[encoded data removed]",
      "text/plain": [
       "<Figure size 432x288 with 1 Axes>"
      ]
     },
     "execution_count": 12,
     "metadata": {},
     "output_type": "execute_result"
    }
   ],
   "source": [
    "job=backend.run([qc_basis,qd_basis])\n",
    "print(job.result().get_counts(qc_basis))\n",
    "from qiskit.visualization import plot_histogram\n",
    "plot_histogram(job.result().get_counts(),title=\"With Optimisation\")"
   ]
  },
  {
   "cell_type": "code",
   "execution_count": 13,
   "id": "ce6f55f6",
   "metadata": {},
   "outputs": [
    {
     "name": "stdout",
     "output_type": "stream",
     "text": [
      "[[0, 1], [2, 1], [2, 3], [4, 3], [5, 4], [6, 3], [6, 12], [7, 0], [7, 9], [9, 10], [11, 10], [11, 12], [13, 21], [14, 11], [14, 18], [15, 8], [15, 16], [18, 17], [18, 19], [20, 19], [22, 21], [22, 31], [23, 20], [23, 30], [24, 17], [24, 27], [25, 16], [25, 26], [26, 27], [28, 27], [28, 29], [30, 29], [30, 31]]\n"
     ]
    }
   ],
   "source": [
    "print(backend.target.build_coupling_map())"
   ]
  },
  {
   "cell_type": "code",
   "execution_count": 15,
   "id": "12837b25",
   "metadata": {},
   "outputs": [
    {
     "name": "stderr",
     "output_type": "stream",
     "text": [
      "2024-11-30 19:14:07,217 - stevedore.extension - ERROR - Could not load 'noise_adaptive': module 'qiskit.transpiler.preset_passmanagers.builtin_plugins' has no attribute 'NoiseAdaptiveLayoutPassManager'\n",
      "2024-11-30 19:14:07,218 - stevedore.extension - ERROR - Could not load 'unroller': module 'qiskit.transpiler.preset_passmanagers.builtin_plugins' has no attribute 'UnrollerPassManager'\n",
      "2024-11-30 19:14:07,223 - stevedore.extension - ERROR - Could not load 'noise_adaptive': module 'qiskit.transpiler.preset_passmanagers.builtin_plugins' has no attribute 'NoiseAdaptiveLayoutPassManager'\n",
      "2024-11-30 19:14:07,224 - stevedore.extension - ERROR - Could not load 'unroller': module 'qiskit.transpiler.preset_passmanagers.builtin_plugins' has no attribute 'UnrollerPassManager'\n"
     ]
    },
    {
     "data": {
      "image/png": "[encoded data removed]",
      "text/plain": [
       "<Figure size 846.638x204.68 with 1 Axes>"
      ]
     },
     "execution_count": 15,
     "metadata": {},
     "output_type": "execute_result"
    }
   ],
   "source": [
    "import numpy as np\n",
    "qc = QuantumCircuit(2, 2)\n",
    " \n",
    "qc.h(0)\n",
    "qc.x(1)\n",
    "qc.cp(np.pi/4, 0, 1)\n",
    "qc.h(0)\n",
    "qc.measure([0], [0])\n",
    "qc.measure([1], [1])\n",
    " \n",
    "qc_basis = transpile(qc, backend)\n",
    "qc_basis.name=c.name+\"_opt\"\n",
    "qc_basis.draw(output=\"mpl\",idle_wires=False)"
   ]
  },
  {
   "cell_type": "code",
   "execution_count": 16,
   "id": "f303abea",
   "metadata": {},
   "outputs": [
    {
     "data": {
      "image/png": "[encoded data removed]",
      "text/plain": [
       "<Figure size 432x288 with 1 Axes>"
      ]
     },
     "execution_count": 16,
     "metadata": {},
     "output_type": "execute_result"
    }
   ],
   "source": [
    "job=backend.run([qc,qc_basis])\n",
    "job.result().get_counts(qc)\n",
    "from qiskit.visualization import plot_histogram\n",
    "plot_histogram(job.result().get_counts(), title=\"Comparing Optimisation\")"
   ]
  },
  {
   "cell_type": "code",
   "execution_count": 17,
   "id": "2cbbfbc4",
   "metadata": {},
   "outputs": [
    {
     "name": "stderr",
     "output_type": "stream",
     "text": [
      "2024-11-30 19:14:25,330 - stevedore.extension - ERROR - Could not load 'noise_adaptive': module 'qiskit.transpiler.preset_passmanagers.builtin_plugins' has no attribute 'NoiseAdaptiveLayoutPassManager'\n",
      "2024-11-30 19:14:25,332 - stevedore.extension - ERROR - Could not load 'unroller': module 'qiskit.transpiler.preset_passmanagers.builtin_plugins' has no attribute 'UnrollerPassManager'\n"
     ]
    }
   ],
   "source": [
    "nqubits=3\n",
    "ghz = QuantumCircuit(nqubits)\n",
    "ghz.h(0)\n",
    "ghz.cx(0, range(1, nqubits))\n",
    "ghz.measure_all()\n",
    "try:\n",
    "    ghz_0=transpile(ghz,backend,optimization_level=0)\n",
    "    job=backend.run(ghz_0)\n",
    "    job.result().get_counts(ghz_0)\n",
    "    plot_histogram(job.result().get_counts(), title=\"Comparing Optimisation\")\n",
    "except:\n",
    "    print(\"ERROR: No está arreglado este punto\")"
   ]
  },
  {
   "cell_type": "code",
   "execution_count": 18,
   "id": "4e8276e3",
   "metadata": {},
   "outputs": [
    {
     "name": "stderr",
     "output_type": "stream",
     "text": [
      "2024-11-30 19:14:31,518 - stevedore.extension - ERROR - Could not load 'noise_adaptive': module 'qiskit.transpiler.preset_passmanagers.builtin_plugins' has no attribute 'NoiseAdaptiveLayoutPassManager'\n",
      "2024-11-30 19:14:31,520 - stevedore.extension - ERROR - Could not load 'unroller': module 'qiskit.transpiler.preset_passmanagers.builtin_plugins' has no attribute 'UnrollerPassManager'\n",
      "2024-11-30 19:14:31,524 - stevedore.extension - ERROR - Could not load 'noise_adaptive': module 'qiskit.transpiler.preset_passmanagers.builtin_plugins' has no attribute 'NoiseAdaptiveLayoutPassManager'\n",
      "2024-11-30 19:14:31,525 - stevedore.extension - ERROR - Could not load 'unroller': module 'qiskit.transpiler.preset_passmanagers.builtin_plugins' has no attribute 'UnrollerPassManager'\n",
      "2024-11-30 19:14:31,543 - stevedore.extension - ERROR - Could not load 'noise_adaptive': module 'qiskit.transpiler.preset_passmanagers.builtin_plugins' has no attribute 'NoiseAdaptiveLayoutPassManager'\n",
      "2024-11-30 19:14:31,544 - stevedore.extension - ERROR - Could not load 'unroller': module 'qiskit.transpiler.preset_passmanagers.builtin_plugins' has no attribute 'UnrollerPassManager'\n",
      "2024-11-30 19:14:31,547 - stevedore.extension - ERROR - Could not load 'noise_adaptive': module 'qiskit.transpiler.preset_passmanagers.builtin_plugins' has no attribute 'NoiseAdaptiveLayoutPassManager'\n",
      "2024-11-30 19:14:31,548 - stevedore.extension - ERROR - Could not load 'unroller': module 'qiskit.transpiler.preset_passmanagers.builtin_plugins' has no attribute 'UnrollerPassManager'\n",
      "2024-11-30 19:14:31,568 - stevedore.extension - ERROR - Could not load 'noise_adaptive': module 'qiskit.transpiler.preset_passmanagers.builtin_plugins' has no attribute 'NoiseAdaptiveLayoutPassManager'\n",
      "2024-11-30 19:14:31,569 - stevedore.extension - ERROR - Could not load 'unroller': module 'qiskit.transpiler.preset_passmanagers.builtin_plugins' has no attribute 'UnrollerPassManager'\n",
      "2024-11-30 19:14:31,573 - stevedore.extension - ERROR - Could not load 'noise_adaptive': module 'qiskit.transpiler.preset_passmanagers.builtin_plugins' has no attribute 'NoiseAdaptiveLayoutPassManager'\n",
      "2024-11-30 19:14:31,575 - stevedore.extension - ERROR - Could not load 'unroller': module 'qiskit.transpiler.preset_passmanagers.builtin_plugins' has no attribute 'UnrollerPassManager'\n"
     ]
    },
    {
     "data": {
      "image/png": "[encoded data removed]",
      "text/plain": [
       "<Figure size 432x288 with 1 Axes>"
      ]
     },
     "execution_count": 18,
     "metadata": {},
     "output_type": "execute_result"
    }
   ],
   "source": [
    "ghz_1=transpile(ghz,backend,optimization_level=1)\n",
    "ghz_1.name=ghz_1.name+\"_1\"\n",
    "ghz_2=transpile(ghz,backend,optimization_level=2)\n",
    "ghz_2.name=ghz_1.name+\"_2\"\n",
    "ghz_3=transpile(ghz,backend,optimization_level=3)\n",
    "ghz_3.name=ghz_1.name+\"_3\"\n",
    "job=backend.run([ghz_0,ghz_1,ghz_2,ghz_3])\n",
    "plot_histogram(job.result().get_counts(), title=\"Comparing Optimisation\",legend=[ghz_0.name,ghz_1.name,ghz_2.name,ghz_3.name])"
   ]
  },
  {
   "cell_type": "code",
   "execution_count": 20,
   "id": "84eb3873",
   "metadata": {},
   "outputs": [
    {
     "name": "stdout",
     "output_type": "stream",
     "text": [
      "Importing calibrations from  /opt/cesga/qmio/hpc/calibrations/2024_11_29__12_00_02.json\n"
     ]
    },
    {
     "ename": "CalledProcessError",
     "evalue": "Command '['neato', '-T', 'png']' returned non-zero exit status 1.",
     "output_type": "error",
     "traceback": [
      "\u001b[0;31m---------------------------------------------------------------------------\u001b[0m",
      "\u001b[0;31mCalledProcessError\u001b[0m                        Traceback (most recent call last)",
      "\u001b[0;32m/tmp/ipykernel_2509887/320598703.py\u001b[0m in \u001b[0;36m<module>\u001b[0;34m\u001b[0m\n\u001b[1;32m     19\u001b[0m \u001b[0;34m\u001b[0m\u001b[0m\n\u001b[1;32m     20\u001b[0m \u001b[0;34m\u001b[0m\u001b[0m\n\u001b[0;32m---> 21\u001b[0;31m \u001b[0mplot_gate_map\u001b[0m\u001b[0;34m(\u001b[0m\u001b[0mbackend\u001b[0m\u001b[0;34m,\u001b[0m \u001b[0mqubit_coordinates\u001b[0m\u001b[0;34m=\u001b[0m\u001b[0mpos\u001b[0m\u001b[0;34m,\u001b[0m\u001b[0mplot_directed\u001b[0m\u001b[0;34m=\u001b[0m\u001b[0;32mTrue\u001b[0m\u001b[0;34m,\u001b[0m\u001b[0mline_width\u001b[0m\u001b[0;34m=\u001b[0m\u001b[0;36m1\u001b[0m\u001b[0;34m,\u001b[0m\u001b[0mqubit_color\u001b[0m\u001b[0;34m=\u001b[0m\u001b[0mplot_t1_colors\u001b[0m\u001b[0;34m(\u001b[0m\u001b[0mbackend\u001b[0m\u001b[0;34m)\u001b[0m\u001b[0;34m)\u001b[0m\u001b[0;34m\u001b[0m\u001b[0;34m\u001b[0m\u001b[0m\n\u001b[0m",
      "\u001b[0;32m/opt/cesga/qmio/hpc/software/Compiler/gcc/12.3.0/qiskit/1.2.4-python-3.9.9/lib/python3.9/site-packages/qiskit/utils/lazy_tester.py\u001b[0m in \u001b[0;36mout\u001b[0;34m(*args, **kwargs)\u001b[0m\n\u001b[1;32m    163\u001b[0m         \u001b[0;32mdef\u001b[0m \u001b[0mout\u001b[0m\u001b[0;34m(\u001b[0m\u001b[0;34m*\u001b[0m\u001b[0margs\u001b[0m\u001b[0;34m,\u001b[0m \u001b[0;34m**\u001b[0m\u001b[0mkwargs\u001b[0m\u001b[0;34m)\u001b[0m\u001b[0;34m:\u001b[0m\u001b[0;34m\u001b[0m\u001b[0;34m\u001b[0m\u001b[0m\n\u001b[1;32m    164\u001b[0m             \u001b[0mself\u001b[0m\u001b[0;34m.\u001b[0m\u001b[0mrequire_now\u001b[0m\u001b[0;34m(\u001b[0m\u001b[0mfeature\u001b[0m\u001b[0;34m)\u001b[0m\u001b[0;34m\u001b[0m\u001b[0;34m\u001b[0m\u001b[0m\n\u001b[0;32m--> 165\u001b[0;31m             \u001b[0;32mreturn\u001b[0m \u001b[0mfunction\u001b[0m\u001b[0;34m(\u001b[0m\u001b[0;34m*\u001b[0m\u001b[0margs\u001b[0m\u001b[0;34m,\u001b[0m \u001b[0;34m**\u001b[0m\u001b[0mkwargs\u001b[0m\u001b[0;34m)\u001b[0m\u001b[0;34m\u001b[0m\u001b[0;34m\u001b[0m\u001b[0m\n\u001b[0m\u001b[1;32m    166\u001b[0m \u001b[0;34m\u001b[0m\u001b[0m\n\u001b[1;32m    167\u001b[0m         \u001b[0;32mreturn\u001b[0m \u001b[0mout\u001b[0m\u001b[0;34m\u001b[0m\u001b[0;34m\u001b[0m\u001b[0m\n",
      "\u001b[0;32m/opt/cesga/qmio/hpc/software/Compiler/gcc/12.3.0/qiskit/1.2.4-python-3.9.9/lib/python3.9/site-packages/qiskit/visualization/gate_map.py\u001b[0m in \u001b[0;36mplot_gate_map\u001b[0;34m(backend, figsize, plot_directed, label_qubits, qubit_size, line_width, font_size, qubit_color, qubit_labels, line_color, font_color, ax, filename, qubit_coordinates)\u001b[0m\n\u001b[1;32m    930\u001b[0m                 \u001b[0;34mf\"does not match the device number of qubits: {num_qubits}\"\u001b[0m\u001b[0;34m\u001b[0m\u001b[0;34m\u001b[0m\u001b[0m\n\u001b[1;32m    931\u001b[0m             )\n\u001b[0;32m--> 932\u001b[0;31m     return plot_coupling_map(\n\u001b[0m\u001b[1;32m    933\u001b[0m         \u001b[0mnum_qubits\u001b[0m\u001b[0;34m,\u001b[0m\u001b[0;34m\u001b[0m\u001b[0;34m\u001b[0m\u001b[0m\n\u001b[1;32m    934\u001b[0m         \u001b[0mqubit_coordinates\u001b[0m\u001b[0;34m,\u001b[0m\u001b[0;34m\u001b[0m\u001b[0;34m\u001b[0m\u001b[0m\n",
      "\u001b[0;32m/opt/cesga/qmio/hpc/software/Compiler/gcc/12.3.0/qiskit/1.2.4-python-3.9.9/lib/python3.9/site-packages/qiskit/utils/lazy_tester.py\u001b[0m in \u001b[0;36mout\u001b[0;34m(*args, **kwargs)\u001b[0m\n\u001b[1;32m    163\u001b[0m         \u001b[0;32mdef\u001b[0m \u001b[0mout\u001b[0m\u001b[0;34m(\u001b[0m\u001b[0;34m*\u001b[0m\u001b[0margs\u001b[0m\u001b[0;34m,\u001b[0m \u001b[0;34m**\u001b[0m\u001b[0mkwargs\u001b[0m\u001b[0;34m)\u001b[0m\u001b[0;34m:\u001b[0m\u001b[0;34m\u001b[0m\u001b[0;34m\u001b[0m\u001b[0m\n\u001b[1;32m    164\u001b[0m             \u001b[0mself\u001b[0m\u001b[0;34m.\u001b[0m\u001b[0mrequire_now\u001b[0m\u001b[0;34m(\u001b[0m\u001b[0mfeature\u001b[0m\u001b[0;34m)\u001b[0m\u001b[0;34m\u001b[0m\u001b[0;34m\u001b[0m\u001b[0m\n\u001b[0;32m--> 165\u001b[0;31m             \u001b[0;32mreturn\u001b[0m \u001b[0mfunction\u001b[0m\u001b[0;34m(\u001b[0m\u001b[0;34m*\u001b[0m\u001b[0margs\u001b[0m\u001b[0;34m,\u001b[0m \u001b[0;34m**\u001b[0m\u001b[0mkwargs\u001b[0m\u001b[0;34m)\u001b[0m\u001b[0;34m\u001b[0m\u001b[0;34m\u001b[0m\u001b[0m\n\u001b[0m\u001b[1;32m    166\u001b[0m \u001b[0;34m\u001b[0m\u001b[0m\n\u001b[1;32m    167\u001b[0m         \u001b[0;32mreturn\u001b[0m \u001b[0mout\u001b[0m\u001b[0;34m\u001b[0m\u001b[0;34m\u001b[0m\u001b[0m\n",
      "\u001b[0;32m/opt/cesga/qmio/hpc/software/Compiler/gcc/12.3.0/qiskit/1.2.4-python-3.9.9/lib/python3.9/site-packages/qiskit/utils/lazy_tester.py\u001b[0m in \u001b[0;36mout\u001b[0;34m(*args, **kwargs)\u001b[0m\n\u001b[1;32m    163\u001b[0m         \u001b[0;32mdef\u001b[0m \u001b[0mout\u001b[0m\u001b[0;34m(\u001b[0m\u001b[0;34m*\u001b[0m\u001b[0margs\u001b[0m\u001b[0;34m,\u001b[0m \u001b[0;34m**\u001b[0m\u001b[0mkwargs\u001b[0m\u001b[0;34m)\u001b[0m\u001b[0;34m:\u001b[0m\u001b[0;34m\u001b[0m\u001b[0;34m\u001b[0m\u001b[0m\n\u001b[1;32m    164\u001b[0m             \u001b[0mself\u001b[0m\u001b[0;34m.\u001b[0m\u001b[0mrequire_now\u001b[0m\u001b[0;34m(\u001b[0m\u001b[0mfeature\u001b[0m\u001b[0;34m)\u001b[0m\u001b[0;34m\u001b[0m\u001b[0;34m\u001b[0m\u001b[0m\n\u001b[0;32m--> 165\u001b[0;31m             \u001b[0;32mreturn\u001b[0m \u001b[0mfunction\u001b[0m\u001b[0;34m(\u001b[0m\u001b[0;34m*\u001b[0m\u001b[0margs\u001b[0m\u001b[0;34m,\u001b[0m \u001b[0;34m**\u001b[0m\u001b[0mkwargs\u001b[0m\u001b[0;34m)\u001b[0m\u001b[0;34m\u001b[0m\u001b[0;34m\u001b[0m\u001b[0m\n\u001b[0m\u001b[1;32m    166\u001b[0m \u001b[0;34m\u001b[0m\u001b[0m\n\u001b[1;32m    167\u001b[0m         \u001b[0;32mreturn\u001b[0m \u001b[0mout\u001b[0m\u001b[0;34m\u001b[0m\u001b[0;34m\u001b[0m\u001b[0m\n",
      "\u001b[0;32m/opt/cesga/qmio/hpc/software/Compiler/gcc/12.3.0/qiskit/1.2.4-python-3.9.9/lib/python3.9/site-packages/qiskit/visualization/gate_map.py\u001b[0m in \u001b[0;36mplot_coupling_map\u001b[0;34m(num_qubits, qubit_coordinates, coupling_map, figsize, plot_directed, label_qubits, qubit_size, line_width, font_size, qubit_color, qubit_labels, line_color, font_color, ax, filename, planar)\u001b[0m\n\u001b[1;32m   1115\u001b[0m                 \u001b[0;34m\"overlap\"\u001b[0m\u001b[0;34m:\u001b[0m \u001b[0;34m\"true\"\u001b[0m\u001b[0;34m,\u001b[0m\u001b[0;34m\u001b[0m\u001b[0;34m\u001b[0m\u001b[0m\n\u001b[1;32m   1116\u001b[0m             }\n\u001b[0;32m-> 1117\u001b[0;31m     plot = graphviz_draw(\n\u001b[0m\u001b[1;32m   1118\u001b[0m         \u001b[0mgraph\u001b[0m\u001b[0;34m,\u001b[0m\u001b[0;34m\u001b[0m\u001b[0;34m\u001b[0m\u001b[0m\n\u001b[1;32m   1119\u001b[0m         \u001b[0mmethod\u001b[0m\u001b[0;34m=\u001b[0m\u001b[0;34m\"neato\"\u001b[0m\u001b[0;34m,\u001b[0m\u001b[0;34m\u001b[0m\u001b[0;34m\u001b[0m\u001b[0m\n",
      "\u001b[0;32m/opt/cesga/qmio/hpc/software/Compiler/gcc/12.3.0/qiskit/1.2.4-python-3.9.9/lib/python3.9/site-packages/rustworkx/visualization/graphviz.py\u001b[0m in \u001b[0;36mgraphviz_draw\u001b[0;34m(graph, node_attr_fn, edge_attr_fn, graph_attr, filename, image_type, method)\u001b[0m\n\u001b[1;32m    198\u001b[0m \u001b[0;34m\u001b[0m\u001b[0m\n\u001b[1;32m    199\u001b[0m     \u001b[0;32mif\u001b[0m \u001b[0;32mnot\u001b[0m \u001b[0mfilename\u001b[0m\u001b[0;34m:\u001b[0m\u001b[0;34m\u001b[0m\u001b[0;34m\u001b[0m\u001b[0m\n\u001b[0;32m--> 200\u001b[0;31m         dot_result = subprocess.run(\n\u001b[0m\u001b[1;32m    201\u001b[0m             \u001b[0;34m[\u001b[0m\u001b[0mprog\u001b[0m\u001b[0;34m,\u001b[0m \u001b[0;34m\"-T\"\u001b[0m\u001b[0;34m,\u001b[0m \u001b[0moutput_format\u001b[0m\u001b[0;34m]\u001b[0m\u001b[0;34m,\u001b[0m\u001b[0;34m\u001b[0m\u001b[0;34m\u001b[0m\u001b[0m\n\u001b[1;32m    202\u001b[0m             \u001b[0minput\u001b[0m\u001b[0;34m=\u001b[0m\u001b[0mdot_str\u001b[0m\u001b[0;34m.\u001b[0m\u001b[0mencode\u001b[0m\u001b[0;34m(\u001b[0m\u001b[0;34m\"utf-8\"\u001b[0m\u001b[0;34m)\u001b[0m\u001b[0;34m,\u001b[0m\u001b[0;34m\u001b[0m\u001b[0;34m\u001b[0m\u001b[0m\n",
      "\u001b[0;32m/opt/cesga/qmio/hpc/software/Compiler/gcccore/12.3.0/python/3.9.9/lib/python3.9/subprocess.py\u001b[0m in \u001b[0;36mrun\u001b[0;34m(input, capture_output, timeout, check, *popenargs, **kwargs)\u001b[0m\n\u001b[1;32m    526\u001b[0m         \u001b[0mretcode\u001b[0m \u001b[0;34m=\u001b[0m \u001b[0mprocess\u001b[0m\u001b[0;34m.\u001b[0m\u001b[0mpoll\u001b[0m\u001b[0;34m(\u001b[0m\u001b[0;34m)\u001b[0m\u001b[0;34m\u001b[0m\u001b[0;34m\u001b[0m\u001b[0m\n\u001b[1;32m    527\u001b[0m         \u001b[0;32mif\u001b[0m \u001b[0mcheck\u001b[0m \u001b[0;32mand\u001b[0m \u001b[0mretcode\u001b[0m\u001b[0;34m:\u001b[0m\u001b[0;34m\u001b[0m\u001b[0;34m\u001b[0m\u001b[0m\n\u001b[0;32m--> 528\u001b[0;31m             raise CalledProcessError(retcode, process.args,\n\u001b[0m\u001b[1;32m    529\u001b[0m                                      output=stdout, stderr=stderr)\n\u001b[1;32m    530\u001b[0m     \u001b[0;32mreturn\u001b[0m \u001b[0mCompletedProcess\u001b[0m\u001b[0;34m(\u001b[0m\u001b[0mprocess\u001b[0m\u001b[0;34m.\u001b[0m\u001b[0margs\u001b[0m\u001b[0;34m,\u001b[0m \u001b[0mretcode\u001b[0m\u001b[0;34m,\u001b[0m \u001b[0mstdout\u001b[0m\u001b[0;34m,\u001b[0m \u001b[0mstderr\u001b[0m\u001b[0;34m)\u001b[0m\u001b[0;34m\u001b[0m\u001b[0;34m\u001b[0m\u001b[0m\n",
      "\u001b[0;31mCalledProcessError\u001b[0m: Command '['neato', '-T', 'png']' returned non-zero exit status 1."
     ]
    }
   ],
   "source": [
    "from qmiotools.data import QUBIT_POSITIONS\n",
    "pos=QUBIT_POSITIONS\n",
    "backend=QmioBackend()\n",
    "def plot_t1_colors(backend):\n",
    "    import matplotlib as mpl\n",
    "    from matplotlib.cm import ScalarMappable as SC\n",
    "    from matplotlib import colors\n",
    "\n",
    "    cmap = mpl.colormaps['plasma']\n",
    "\n",
    "    sc=SC(cmap=cmap)\n",
    "\n",
    "    T1s=[backend.qubit_properties(i).t1*1e4 for i in range(32)]\n",
    "    \n",
    "    col=sc.to_rgba(T1s)\n",
    "    q=[colors.to_hex(i) for i in col]\n",
    "    return q\n",
    "\n",
    "    \n",
    "\n",
    "plot_gate_map(backend, qubit_coordinates=pos,plot_directed=True,line_width=1,qubit_color=plot_t1_colors(backend))"
   ]
  },
  {
   "cell_type": "code",
   "execution_count": 21,
   "id": "eabafe09",
   "metadata": {
    "scrolled": true
   },
   "outputs": [
    {
     "name": "stderr",
     "output_type": "stream",
     "text": [
      "2024-11-30 19:15:19,704 - stevedore.extension - ERROR - Could not load 'noise_adaptive': module 'qiskit.transpiler.preset_passmanagers.builtin_plugins' has no attribute 'NoiseAdaptiveLayoutPassManager'\n",
      "2024-11-30 19:15:19,706 - stevedore.extension - ERROR - Could not load 'unroller': module 'qiskit.transpiler.preset_passmanagers.builtin_plugins' has no attribute 'UnrollerPassManager'\n",
      "2024-11-30 19:15:19,711 - stevedore.extension - ERROR - Could not load 'noise_adaptive': module 'qiskit.transpiler.preset_passmanagers.builtin_plugins' has no attribute 'NoiseAdaptiveLayoutPassManager'\n",
      "2024-11-30 19:15:19,713 - stevedore.extension - ERROR - Could not load 'unroller': module 'qiskit.transpiler.preset_passmanagers.builtin_plugins' has no attribute 'UnrollerPassManager'\n",
      "2024-11-30 19:15:19,768 - stevedore.extension - ERROR - Could not load 'noise_adaptive': module 'qiskit.transpiler.preset_passmanagers.builtin_plugins' has no attribute 'NoiseAdaptiveLayoutPassManager'\n",
      "2024-11-30 19:15:19,769 - stevedore.extension - ERROR - Could not load 'unroller': module 'qiskit.transpiler.preset_passmanagers.builtin_plugins' has no attribute 'UnrollerPassManager'\n",
      "2024-11-30 19:15:19,774 - stevedore.extension - ERROR - Could not load 'noise_adaptive': module 'qiskit.transpiler.preset_passmanagers.builtin_plugins' has no attribute 'NoiseAdaptiveLayoutPassManager'\n",
      "2024-11-30 19:15:19,775 - stevedore.extension - ERROR - Could not load 'unroller': module 'qiskit.transpiler.preset_passmanagers.builtin_plugins' has no attribute 'UnrollerPassManager'\n",
      "2024-11-30 19:15:19,817 - stevedore.extension - ERROR - Could not load 'noise_adaptive': module 'qiskit.transpiler.preset_passmanagers.builtin_plugins' has no attribute 'NoiseAdaptiveLayoutPassManager'\n",
      "2024-11-30 19:15:19,818 - stevedore.extension - ERROR - Could not load 'unroller': module 'qiskit.transpiler.preset_passmanagers.builtin_plugins' has no attribute 'UnrollerPassManager'\n",
      "2024-11-30 19:15:19,822 - stevedore.extension - ERROR - Could not load 'noise_adaptive': module 'qiskit.transpiler.preset_passmanagers.builtin_plugins' has no attribute 'NoiseAdaptiveLayoutPassManager'\n",
      "2024-11-30 19:15:19,823 - stevedore.extension - ERROR - Could not load 'unroller': module 'qiskit.transpiler.preset_passmanagers.builtin_plugins' has no attribute 'UnrollerPassManager'\n",
      "2024-11-30 19:15:19,865 - stevedore.extension - ERROR - Could not load 'noise_adaptive': module 'qiskit.transpiler.preset_passmanagers.builtin_plugins' has no attribute 'NoiseAdaptiveLayoutPassManager'\n",
      "2024-11-30 19:15:19,867 - stevedore.extension - ERROR - Could not load 'unroller': module 'qiskit.transpiler.preset_passmanagers.builtin_plugins' has no attribute 'UnrollerPassManager'\n",
      "2024-11-30 19:15:19,871 - stevedore.extension - ERROR - Could not load 'noise_adaptive': module 'qiskit.transpiler.preset_passmanagers.builtin_plugins' has no attribute 'NoiseAdaptiveLayoutPassManager'\n",
      "2024-11-30 19:15:19,872 - stevedore.extension - ERROR - Could not load 'unroller': module 'qiskit.transpiler.preset_passmanagers.builtin_plugins' has no attribute 'UnrollerPassManager'\n",
      "2024-11-30 19:15:19,914 - stevedore.extension - ERROR - Could not load 'noise_adaptive': module 'qiskit.transpiler.preset_passmanagers.builtin_plugins' has no attribute 'NoiseAdaptiveLayoutPassManager'\n",
      "2024-11-30 19:15:19,916 - stevedore.extension - ERROR - Could not load 'unroller': module 'qiskit.transpiler.preset_passmanagers.builtin_plugins' has no attribute 'UnrollerPassManager'\n",
      "2024-11-30 19:15:19,920 - stevedore.extension - ERROR - Could not load 'noise_adaptive': module 'qiskit.transpiler.preset_passmanagers.builtin_plugins' has no attribute 'NoiseAdaptiveLayoutPassManager'\n",
      "2024-11-30 19:15:19,922 - stevedore.extension - ERROR - Could not load 'unroller': module 'qiskit.transpiler.preset_passmanagers.builtin_plugins' has no attribute 'UnrollerPassManager'\n",
      "2024-11-30 19:15:19,965 - stevedore.extension - ERROR - Could not load 'noise_adaptive': module 'qiskit.transpiler.preset_passmanagers.builtin_plugins' has no attribute 'NoiseAdaptiveLayoutPassManager'\n",
      "2024-11-30 19:15:19,967 - stevedore.extension - ERROR - Could not load 'unroller': module 'qiskit.transpiler.preset_passmanagers.builtin_plugins' has no attribute 'UnrollerPassManager'\n",
      "2024-11-30 19:15:19,971 - stevedore.extension - ERROR - Could not load 'noise_adaptive': module 'qiskit.transpiler.preset_passmanagers.builtin_plugins' has no attribute 'NoiseAdaptiveLayoutPassManager'\n",
      "2024-11-30 19:15:19,972 - stevedore.extension - ERROR - Could not load 'unroller': module 'qiskit.transpiler.preset_passmanagers.builtin_plugins' has no attribute 'UnrollerPassManager'\n",
      "2024-11-30 19:15:20,017 - stevedore.extension - ERROR - Could not load 'noise_adaptive': module 'qiskit.transpiler.preset_passmanagers.builtin_plugins' has no attribute 'NoiseAdaptiveLayoutPassManager'\n",
      "2024-11-30 19:15:20,019 - stevedore.extension - ERROR - Could not load 'unroller': module 'qiskit.transpiler.preset_passmanagers.builtin_plugins' has no attribute 'UnrollerPassManager'\n",
      "2024-11-30 19:15:20,023 - stevedore.extension - ERROR - Could not load 'noise_adaptive': module 'qiskit.transpiler.preset_passmanagers.builtin_plugins' has no attribute 'NoiseAdaptiveLayoutPassManager'\n",
      "2024-11-30 19:15:20,023 - stevedore.extension - ERROR - Could not load 'unroller': module 'qiskit.transpiler.preset_passmanagers.builtin_plugins' has no attribute 'UnrollerPassManager'\n",
      "2024-11-30 19:15:20,065 - stevedore.extension - ERROR - Could not load 'noise_adaptive': module 'qiskit.transpiler.preset_passmanagers.builtin_plugins' has no attribute 'NoiseAdaptiveLayoutPassManager'\n",
      "2024-11-30 19:15:20,067 - stevedore.extension - ERROR - Could not load 'unroller': module 'qiskit.transpiler.preset_passmanagers.builtin_plugins' has no attribute 'UnrollerPassManager'\n",
      "2024-11-30 19:15:20,071 - stevedore.extension - ERROR - Could not load 'noise_adaptive': module 'qiskit.transpiler.preset_passmanagers.builtin_plugins' has no attribute 'NoiseAdaptiveLayoutPassManager'\n",
      "2024-11-30 19:15:20,072 - stevedore.extension - ERROR - Could not load 'unroller': module 'qiskit.transpiler.preset_passmanagers.builtin_plugins' has no attribute 'UnrollerPassManager'\n",
      "2024-11-30 19:15:20,117 - stevedore.extension - ERROR - Could not load 'noise_adaptive': module 'qiskit.transpiler.preset_passmanagers.builtin_plugins' has no attribute 'NoiseAdaptiveLayoutPassManager'\n",
      "2024-11-30 19:15:20,119 - stevedore.extension - ERROR - Could not load 'unroller': module 'qiskit.transpiler.preset_passmanagers.builtin_plugins' has no attribute 'UnrollerPassManager'\n",
      "2024-11-30 19:15:20,123 - stevedore.extension - ERROR - Could not load 'noise_adaptive': module 'qiskit.transpiler.preset_passmanagers.builtin_plugins' has no attribute 'NoiseAdaptiveLayoutPassManager'\n",
      "2024-11-30 19:15:20,125 - stevedore.extension - ERROR - Could not load 'unroller': module 'qiskit.transpiler.preset_passmanagers.builtin_plugins' has no attribute 'UnrollerPassManager'\n",
      "2024-11-30 19:15:20,169 - stevedore.extension - ERROR - Could not load 'noise_adaptive': module 'qiskit.transpiler.preset_passmanagers.builtin_plugins' has no attribute 'NoiseAdaptiveLayoutPassManager'\n",
      "2024-11-30 19:15:20,171 - stevedore.extension - ERROR - Could not load 'unroller': module 'qiskit.transpiler.preset_passmanagers.builtin_plugins' has no attribute 'UnrollerPassManager'\n",
      "2024-11-30 19:15:20,175 - stevedore.extension - ERROR - Could not load 'noise_adaptive': module 'qiskit.transpiler.preset_passmanagers.builtin_plugins' has no attribute 'NoiseAdaptiveLayoutPassManager'\n",
      "2024-11-30 19:15:20,177 - stevedore.extension - ERROR - Could not load 'unroller': module 'qiskit.transpiler.preset_passmanagers.builtin_plugins' has no attribute 'UnrollerPassManager'\n",
      "2024-11-30 19:15:20,220 - stevedore.extension - ERROR - Could not load 'noise_adaptive': module 'qiskit.transpiler.preset_passmanagers.builtin_plugins' has no attribute 'NoiseAdaptiveLayoutPassManager'\n",
      "2024-11-30 19:15:20,222 - stevedore.extension - ERROR - Could not load 'unroller': module 'qiskit.transpiler.preset_passmanagers.builtin_plugins' has no attribute 'UnrollerPassManager'\n",
      "2024-11-30 19:15:20,226 - stevedore.extension - ERROR - Could not load 'noise_adaptive': module 'qiskit.transpiler.preset_passmanagers.builtin_plugins' has no attribute 'NoiseAdaptiveLayoutPassManager'\n",
      "2024-11-30 19:15:20,228 - stevedore.extension - ERROR - Could not load 'unroller': module 'qiskit.transpiler.preset_passmanagers.builtin_plugins' has no attribute 'UnrollerPassManager'\n",
      "2024-11-30 19:15:20,273 - stevedore.extension - ERROR - Could not load 'noise_adaptive': module 'qiskit.transpiler.preset_passmanagers.builtin_plugins' has no attribute 'NoiseAdaptiveLayoutPassManager'\n",
      "2024-11-30 19:15:20,274 - stevedore.extension - ERROR - Could not load 'unroller': module 'qiskit.transpiler.preset_passmanagers.builtin_plugins' has no attribute 'UnrollerPassManager'\n",
      "2024-11-30 19:15:20,279 - stevedore.extension - ERROR - Could not load 'noise_adaptive': module 'qiskit.transpiler.preset_passmanagers.builtin_plugins' has no attribute 'NoiseAdaptiveLayoutPassManager'\n",
      "2024-11-30 19:15:20,280 - stevedore.extension - ERROR - Could not load 'unroller': module 'qiskit.transpiler.preset_passmanagers.builtin_plugins' has no attribute 'UnrollerPassManager'\n",
      "2024-11-30 19:15:20,326 - stevedore.extension - ERROR - Could not load 'noise_adaptive': module 'qiskit.transpiler.preset_passmanagers.builtin_plugins' has no attribute 'NoiseAdaptiveLayoutPassManager'\n",
      "2024-11-30 19:15:20,328 - stevedore.extension - ERROR - Could not load 'unroller': module 'qiskit.transpiler.preset_passmanagers.builtin_plugins' has no attribute 'UnrollerPassManager'\n",
      "2024-11-30 19:15:20,332 - stevedore.extension - ERROR - Could not load 'noise_adaptive': module 'qiskit.transpiler.preset_passmanagers.builtin_plugins' has no attribute 'NoiseAdaptiveLayoutPassManager'\n",
      "2024-11-30 19:15:20,333 - stevedore.extension - ERROR - Could not load 'unroller': module 'qiskit.transpiler.preset_passmanagers.builtin_plugins' has no attribute 'UnrollerPassManager'\n",
      "2024-11-30 19:15:20,379 - stevedore.extension - ERROR - Could not load 'noise_adaptive': module 'qiskit.transpiler.preset_passmanagers.builtin_plugins' has no attribute 'NoiseAdaptiveLayoutPassManager'\n",
      "2024-11-30 19:15:20,380 - stevedore.extension - ERROR - Could not load 'unroller': module 'qiskit.transpiler.preset_passmanagers.builtin_plugins' has no attribute 'UnrollerPassManager'\n",
      "2024-11-30 19:15:20,385 - stevedore.extension - ERROR - Could not load 'noise_adaptive': module 'qiskit.transpiler.preset_passmanagers.builtin_plugins' has no attribute 'NoiseAdaptiveLayoutPassManager'\n",
      "2024-11-30 19:15:20,386 - stevedore.extension - ERROR - Could not load 'unroller': module 'qiskit.transpiler.preset_passmanagers.builtin_plugins' has no attribute 'UnrollerPassManager'\n",
      "2024-11-30 19:15:20,433 - stevedore.extension - ERROR - Could not load 'noise_adaptive': module 'qiskit.transpiler.preset_passmanagers.builtin_plugins' has no attribute 'NoiseAdaptiveLayoutPassManager'\n",
      "2024-11-30 19:15:20,434 - stevedore.extension - ERROR - Could not load 'unroller': module 'qiskit.transpiler.preset_passmanagers.builtin_plugins' has no attribute 'UnrollerPassManager'\n",
      "2024-11-30 19:15:20,439 - stevedore.extension - ERROR - Could not load 'noise_adaptive': module 'qiskit.transpiler.preset_passmanagers.builtin_plugins' has no attribute 'NoiseAdaptiveLayoutPassManager'\n",
      "2024-11-30 19:15:20,440 - stevedore.extension - ERROR - Could not load 'unroller': module 'qiskit.transpiler.preset_passmanagers.builtin_plugins' has no attribute 'UnrollerPassManager'\n",
      "2024-11-30 19:15:20,487 - stevedore.extension - ERROR - Could not load 'noise_adaptive': module 'qiskit.transpiler.preset_passmanagers.builtin_plugins' has no attribute 'NoiseAdaptiveLayoutPassManager'\n",
      "2024-11-30 19:15:20,489 - stevedore.extension - ERROR - Could not load 'unroller': module 'qiskit.transpiler.preset_passmanagers.builtin_plugins' has no attribute 'UnrollerPassManager'\n",
      "2024-11-30 19:15:20,493 - stevedore.extension - ERROR - Could not load 'noise_adaptive': module 'qiskit.transpiler.preset_passmanagers.builtin_plugins' has no attribute 'NoiseAdaptiveLayoutPassManager'\n",
      "2024-11-30 19:15:20,494 - stevedore.extension - ERROR - Could not load 'unroller': module 'qiskit.transpiler.preset_passmanagers.builtin_plugins' has no attribute 'UnrollerPassManager'\n",
      "2024-11-30 19:15:20,544 - stevedore.extension - ERROR - Could not load 'noise_adaptive': module 'qiskit.transpiler.preset_passmanagers.builtin_plugins' has no attribute 'NoiseAdaptiveLayoutPassManager'\n",
      "2024-11-30 19:15:20,545 - stevedore.extension - ERROR - Could not load 'unroller': module 'qiskit.transpiler.preset_passmanagers.builtin_plugins' has no attribute 'UnrollerPassManager'\n",
      "2024-11-30 19:15:20,549 - stevedore.extension - ERROR - Could not load 'noise_adaptive': module 'qiskit.transpiler.preset_passmanagers.builtin_plugins' has no attribute 'NoiseAdaptiveLayoutPassManager'\n",
      "2024-11-30 19:15:20,551 - stevedore.extension - ERROR - Could not load 'unroller': module 'qiskit.transpiler.preset_passmanagers.builtin_plugins' has no attribute 'UnrollerPassManager'\n",
      "2024-11-30 19:15:20,601 - stevedore.extension - ERROR - Could not load 'noise_adaptive': module 'qiskit.transpiler.preset_passmanagers.builtin_plugins' has no attribute 'NoiseAdaptiveLayoutPassManager'\n",
      "2024-11-30 19:15:20,603 - stevedore.extension - ERROR - Could not load 'unroller': module 'qiskit.transpiler.preset_passmanagers.builtin_plugins' has no attribute 'UnrollerPassManager'\n",
      "2024-11-30 19:15:20,607 - stevedore.extension - ERROR - Could not load 'noise_adaptive': module 'qiskit.transpiler.preset_passmanagers.builtin_plugins' has no attribute 'NoiseAdaptiveLayoutPassManager'\n",
      "2024-11-30 19:15:20,608 - stevedore.extension - ERROR - Could not load 'unroller': module 'qiskit.transpiler.preset_passmanagers.builtin_plugins' has no attribute 'UnrollerPassManager'\n",
      "2024-11-30 19:15:20,658 - stevedore.extension - ERROR - Could not load 'noise_adaptive': module 'qiskit.transpiler.preset_passmanagers.builtin_plugins' has no attribute 'NoiseAdaptiveLayoutPassManager'\n",
      "2024-11-30 19:15:20,659 - stevedore.extension - ERROR - Could not load 'unroller': module 'qiskit.transpiler.preset_passmanagers.builtin_plugins' has no attribute 'UnrollerPassManager'\n",
      "2024-11-30 19:15:20,663 - stevedore.extension - ERROR - Could not load 'noise_adaptive': module 'qiskit.transpiler.preset_passmanagers.builtin_plugins' has no attribute 'NoiseAdaptiveLayoutPassManager'\n",
      "2024-11-30 19:15:20,664 - stevedore.extension - ERROR - Could not load 'unroller': module 'qiskit.transpiler.preset_passmanagers.builtin_plugins' has no attribute 'UnrollerPassManager'\n",
      "2024-11-30 19:15:20,710 - stevedore.extension - ERROR - Could not load 'noise_adaptive': module 'qiskit.transpiler.preset_passmanagers.builtin_plugins' has no attribute 'NoiseAdaptiveLayoutPassManager'\n",
      "2024-11-30 19:15:20,712 - stevedore.extension - ERROR - Could not load 'unroller': module 'qiskit.transpiler.preset_passmanagers.builtin_plugins' has no attribute 'UnrollerPassManager'\n",
      "2024-11-30 19:15:20,716 - stevedore.extension - ERROR - Could not load 'noise_adaptive': module 'qiskit.transpiler.preset_passmanagers.builtin_plugins' has no attribute 'NoiseAdaptiveLayoutPassManager'\n",
      "2024-11-30 19:15:20,718 - stevedore.extension - ERROR - Could not load 'unroller': module 'qiskit.transpiler.preset_passmanagers.builtin_plugins' has no attribute 'UnrollerPassManager'\n"
     ]
    },
    {
     "data": {
      "image/png": "[encoded data removed]",
      "text/plain": [
       "<Figure size 576x432 with 1 Axes>"
      ]
     },
     "metadata": {
      "needs_background": "light"
     },
     "output_type": "display_data"
    },
    {
     "name": "stderr",
     "output_type": "stream",
     "text": [
      "Error in atexit._run_exitfuncs:\n",
      "Traceback (most recent call last):\n",
      "  File \"/home/cesga/agomez/QMIO/githib/qmiotools/qmiotools/integrations/qiskitqmio/qmiobackend.py\", line 326, in __exit__\n",
      "    self._close()\n",
      "  File \"/home/cesga/agomez/QMIO/githib/qmiotools/qmiotools/integrations/qiskitqmio/qmiobackend.py\", line 330, in _close\n",
      "    self.disconnect()\n",
      "  File \"/home/cesga/agomez/QMIO/githib/qmiotools/qmiotools/integrations/qiskitqmio/qmiobackend.py\", line 301, in disconnect\n",
      "    self._QPUBackend.disconnect()\n",
      "  File \"/opt/cesga/qmio/hpc/software/Compiler/gcc/12.3.0/qmio-run/0.2.1-python-3.9.9/lib/python3.9/site-packages/qmio/backends.py\", line 277, in disconnect\n",
      "    while self._slurmclient._is_job_running(self._job_id):\n",
      "  File \"/opt/cesga/qmio/hpc/software/Compiler/gcc/12.3.0/qmio-run/0.2.1-python-3.9.9/lib/python3.9/site-packages/qmio/clients.py\", line 243, in _is_job_running\n",
      "    stdout, stderr = run(self._check_cmd)\n",
      "  File \"/opt/cesga/qmio/hpc/software/Compiler/gcc/12.3.0/qmio-run/0.2.1-python-3.9.9/lib/python3.9/site-packages/qmio/utils.py\", line 44, in run\n",
      "    raise RunCommandError(p.stderr)\n",
      "qmio.utils.RunCommandError: b'slurm_load_jobs error: Invalid job id specified\\n'\n"
     ]
    }
   ],
   "source": [
    "import matplotlib.pyplot as plt\n",
    "from qiskit import QuantumCircuit, transpile\n",
    "from qiskit.transpiler import CouplingMap\n",
    " \n",
    "#coupling_map = CouplingMap.from_heavy_hex(3)\n",
    "\n",
    " \n",
    "ghz = QuantumCircuit(15)\n",
    "ghz.h(0)\n",
    "ghz.cx(0, range(1, 15))\n",
    " \n",
    "depths = []\n",
    "for i in range(20):\n",
    "    depths.append(\n",
    "        transpile(\n",
    "            ghz,\n",
    "            backend,\n",
    "            seed_transpiler=i,\n",
    "            optimization_level=1,\n",
    "            #layout_method='trivial'  # Fixed layout mapped in circuit order\n",
    "        ).depth()\n",
    "    )\n",
    " \n",
    "plt.figure(figsize=(8, 6))\n",
    "plt.hist(depths, align='left', color='#AC557C')\n",
    "plt.xlabel('Depth', fontsize=14)\n",
    "plt.ylabel('Counts', fontsize=14);"
   ]
  },
  {
   "cell_type": "code",
   "execution_count": null,
   "id": "81dd5845-be40-4dec-b599-fb1c60f424f1",
   "metadata": {},
   "outputs": [],
   "source": []
  }
 ],
 "metadata": {
  "kernelspec": {
   "display_name": "Python 3 (ipykernel)",
   "language": "python",
   "name": "python3"
  },
  "language_info": {
   "codemirror_mode": {
    "name": "ipython",
    "version": 3
   },
   "file_extension": ".py",
   "mimetype": "text/x-python",
   "name": "python",
   "nbconvert_exporter": "python",
   "pygments_lexer": "ipython3",
   "version": "3.9.9"
  }
 },
 "nbformat": 4,
 "nbformat_minor": 5
}
